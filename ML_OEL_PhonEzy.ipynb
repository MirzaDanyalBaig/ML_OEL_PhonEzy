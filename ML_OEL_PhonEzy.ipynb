{
  "cells": [
    {
      "cell_type": "markdown",
      "metadata": {
        "id": "view-in-github",
        "colab_type": "text"
      },
      "source": [
        "<a href=\"https://colab.research.google.com/github/MirzaDanyalBaig/ML_OEL_PhonEzy/blob/master/ML_OEL_PhonEzy.ipynb\" target=\"_parent\"><img src=\"https://colab.research.google.com/assets/colab-badge.svg\" alt=\"Open In Colab\"/></a>"
      ]
    },
    {
      "cell_type": "markdown",
      "source": [
        "# Contributors:\n",
        "\n",
        "\n",
        "1.   Muhammad Faizan Khan (CS-21070)\n",
        "2.   Mirza Danyal Baig (CS-21076)\n",
        "3.   Aneeq Akhtar (CS-21101)\n",
        "\n"
      ],
      "metadata": {
        "id": "mPE3-F7p88jL"
      }
    },
    {
      "cell_type": "markdown",
      "source": [
        "# Importing Packages"
      ],
      "metadata": {
        "id": "N_K3JopR_mb2"
      }
    },
    {
      "cell_type": "code",
      "source": [
        "import numpy as np\n",
        "import pandas as pd\n",
        "import matplotlib.pyplot as plt\n",
        "import seaborn as sns"
      ],
      "metadata": {
        "id": "sWTjCJORA2HK"
      },
      "execution_count": 1,
      "outputs": []
    },
    {
      "cell_type": "code",
      "source": [
        "df=pd.read_csv('smartphonesDataset.csv')\n",
        "print(df.head()) #initial 5 rows of the dataset"
      ],
      "metadata": {
        "colab": {
          "base_uri": "https://localhost:8080/"
        },
        "id": "1UqBW7_lBEAs",
        "outputId": "2ef28024-de2f-4a36-abb8-be14b96a9f65"
      },
      "execution_count": 2,
      "outputs": [
        {
          "output_type": "stream",
          "name": "stdout",
          "text": [
            "                                     Smartphone     Brand           Model  \\\n",
            "0            Realme C55 8/256GB Sunshower Libre    Realme             C55   \n",
            "1      Samsung Galaxy M23 5G 4/128GB Azul Libre   Samsung      Galaxy M23   \n",
            "2  Motorola Moto G13 4/128GB Azul Lavanda Libre  Motorola        Moto G13   \n",
            "3      Xiaomi Redmi Note 11S 6/128GB Gris Libre    Xiaomi  Redmi Note 11S   \n",
            "4       Nothing Phone (2) 12/512GB Blanco Libre   Nothing       Phone (2)   \n",
            "\n",
            "    RAM  Storage   Color Free  Final Price  \n",
            "0   8.0    256.0  Yellow  Yes       231.60  \n",
            "1   4.0    128.0    Blue  Yes       279.00  \n",
            "2   4.0    128.0    Blue  Yes       179.01  \n",
            "3   6.0    128.0    Gray  Yes       279.99  \n",
            "4  12.0    512.0   White  Yes       799.00  \n"
          ]
        }
      ]
    },
    {
      "cell_type": "markdown",
      "source": [
        "Data Preprocessing"
      ],
      "metadata": {
        "id": "YOlsNFgNC751"
      }
    },
    {
      "cell_type": "code",
      "source": [
        "print(df.info()) #information about the dataset"
      ],
      "metadata": {
        "colab": {
          "base_uri": "https://localhost:8080/"
        },
        "id": "rivIs1TpCL5E",
        "outputId": "d4a32d90-fd80-4bdd-96df-ca18f650a039"
      },
      "execution_count": 3,
      "outputs": [
        {
          "output_type": "stream",
          "name": "stdout",
          "text": [
            "<class 'pandas.core.frame.DataFrame'>\n",
            "RangeIndex: 1816 entries, 0 to 1815\n",
            "Data columns (total 8 columns):\n",
            " #   Column       Non-Null Count  Dtype  \n",
            "---  ------       --------------  -----  \n",
            " 0   Smartphone   1816 non-null   object \n",
            " 1   Brand        1816 non-null   object \n",
            " 2   Model        1816 non-null   object \n",
            " 3   RAM          1333 non-null   float64\n",
            " 4   Storage      1791 non-null   float64\n",
            " 5   Color        1816 non-null   object \n",
            " 6   Free         1816 non-null   object \n",
            " 7   Final Price  1816 non-null   float64\n",
            "dtypes: float64(3), object(5)\n",
            "memory usage: 113.6+ KB\n",
            "None\n"
          ]
        }
      ]
    },
    {
      "cell_type": "code",
      "source": [
        "print(df.describe()) #summary of the dataset"
      ],
      "metadata": {
        "colab": {
          "base_uri": "https://localhost:8080/"
        },
        "id": "HrEut0zICfRl",
        "outputId": "48632ce1-c720-4384-e50a-50c554bef760"
      },
      "execution_count": 4,
      "outputs": [
        {
          "output_type": "stream",
          "name": "stdout",
          "text": [
            "              RAM      Storage  Final Price\n",
            "count  1333.00000  1791.000000  1816.000000\n",
            "mean      5.96099   162.652150   492.175573\n",
            "std       2.66807   139.411605   398.606183\n",
            "min       1.00000     2.000000    60.460000\n",
            "25%       4.00000    64.000000   200.990000\n",
            "50%       6.00000   128.000000   349.990000\n",
            "75%       8.00000   256.000000   652.717500\n",
            "max      12.00000  1000.000000  2271.280000\n"
          ]
        }
      ]
    },
    {
      "cell_type": "code",
      "source": [
        "print(df.isnull().sum()) #checking for missing values\n",
        "#Missing values are present in the dataset in RAM and Storage columns"
      ],
      "metadata": {
        "colab": {
          "base_uri": "https://localhost:8080/"
        },
        "id": "KmxKuoNGCv9h",
        "outputId": "d839ee34-11a0-45f6-9e53-10cd1278ee6c"
      },
      "execution_count": 6,
      "outputs": [
        {
          "output_type": "stream",
          "name": "stdout",
          "text": [
            "Smartphone       0\n",
            "Brand            0\n",
            "Model            0\n",
            "RAM            483\n",
            "Storage         25\n",
            "Color            0\n",
            "Free             0\n",
            "Final Price      0\n",
            "dtype: int64\n"
          ]
        }
      ]
    },
    {
      "cell_type": "code",
      "source": [
        "print(df.duplicated().sum()) #checking for duplicate values\n",
        "# No duplicates"
      ],
      "metadata": {
        "colab": {
          "base_uri": "https://localhost:8080/"
        },
        "id": "6hl-wT-QDOR0",
        "outputId": "19efb23e-5b27-4b3f-bc7f-b0aaa7b7f9eb"
      },
      "execution_count": 7,
      "outputs": [
        {
          "output_type": "stream",
          "name": "stdout",
          "text": [
            "0\n"
          ]
        }
      ]
    },
    {
      "cell_type": "code",
      "source": [
        "print(df['Brand'].value_counts()) #count of each brand in the dataset\n",
        "print(df['RAM'].value_counts()) #count of each RAM in the dataset\n",
        "print(df['Storage'].value_counts()) #count of each Storage in the dataset"
      ],
      "metadata": {
        "colab": {
          "base_uri": "https://localhost:8080/"
        },
        "id": "_Ldoo21WDjJR",
        "outputId": "a48c60c0-e7fd-4a85-cf43-c74c21490a82"
      },
      "execution_count": 8,
      "outputs": [
        {
          "output_type": "stream",
          "name": "stdout",
          "text": [
            "Brand\n",
            "Samsung       458\n",
            "Xiaomi        351\n",
            "Apple         292\n",
            "Realme        117\n",
            "OPPO           92\n",
            "POCO           67\n",
            "Motorola       57\n",
            "Huawei         57\n",
            "TCL            36\n",
            "Cubot          34\n",
            "Ulefone        30\n",
            "Blackview      27\n",
            "Vivo           27\n",
            "Honor          27\n",
            "OnePlus        22\n",
            "Hammer         21\n",
            "ZTE            17\n",
            "Nokia          13\n",
            "SPC            11\n",
            "Google          9\n",
            "Nothing         9\n",
            "Alcatel         7\n",
            "Crosscall       7\n",
            "CAT             6\n",
            "Gigaset         3\n",
            "Qubo            3\n",
            "Asus            3\n",
            "Doro            3\n",
            "Sony            2\n",
            "Swissvoice      1\n",
            "Maxcom          1\n",
            "LG              1\n",
            "BQ              1\n",
            "Funker          1\n",
            "Fairphone       1\n",
            "Microsoft       1\n",
            "Lenovo          1\n",
            "Name: count, dtype: int64\n",
            "RAM\n",
            "8.0     381\n",
            "4.0     380\n",
            "6.0     259\n",
            "3.0     112\n",
            "12.0    109\n",
            "2.0      88\n",
            "1.0       4\n",
            "Name: count, dtype: int64\n",
            "Storage\n",
            "128.0     732\n",
            "256.0     412\n",
            "64.0      332\n",
            "32.0      166\n",
            "512.0      94\n",
            "16.0       24\n",
            "1000.0     17\n",
            "4.0         6\n",
            "8.0         3\n",
            "2.0         2\n",
            "3.0         2\n",
            "12.0        1\n",
            "Name: count, dtype: int64\n"
          ]
        }
      ]
    },
    {
      "cell_type": "markdown",
      "source": [
        "Data Cleaning"
      ],
      "metadata": {
        "id": "MDmXRjfsDvoi"
      }
    },
    {
      "cell_type": "code",
      "source": [
        "# Filling ram and storage with mode of there respective columns\n",
        "df.fillna({'RAM': df['RAM'].mode()[0]} , inplace = True)\n",
        "df.fillna({'Storage': df['Storage'].mode()[0]} , inplace = True)"
      ],
      "metadata": {
        "id": "a889qwg0Dyn4"
      },
      "execution_count": 9,
      "outputs": []
    },
    {
      "cell_type": "code",
      "source": [
        "print(df.isnull().sum()) #checking for missing values again"
      ],
      "metadata": {
        "colab": {
          "base_uri": "https://localhost:8080/"
        },
        "id": "LcsSqACfD6wp",
        "outputId": "aa2e5f3f-8c7f-48f1-b8ae-2590f3a843ed"
      },
      "execution_count": 10,
      "outputs": [
        {
          "output_type": "stream",
          "name": "stdout",
          "text": [
            "Smartphone     0\n",
            "Brand          0\n",
            "Model          0\n",
            "RAM            0\n",
            "Storage        0\n",
            "Color          0\n",
            "Free           0\n",
            "Final Price    0\n",
            "dtype: int64\n"
          ]
        }
      ]
    }
  ],
  "metadata": {
    "colab": {
      "provenance": [],
      "include_colab_link": true
    },
    "kernelspec": {
      "display_name": "Python 3",
      "name": "python3"
    }
  },
  "nbformat": 4,
  "nbformat_minor": 0
}