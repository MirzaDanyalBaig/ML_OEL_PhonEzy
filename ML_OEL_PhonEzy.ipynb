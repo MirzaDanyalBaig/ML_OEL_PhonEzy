{
  "cells": [
    {
      "cell_type": "markdown",
      "metadata": {
        "id": "view-in-github",
        "colab_type": "text"
      },
      "source": [
        "<a href=\"https://colab.research.google.com/github/MirzaDanyalBaig/ML_OEL_PhonEzy/blob/master/ML_OEL_PhonEzy.ipynb\" target=\"_parent\"><img src=\"https://colab.research.google.com/assets/colab-badge.svg\" alt=\"Open In Colab\"/></a>"
      ]
    },
    {
      "cell_type": "markdown",
      "source": [
        "# Smartphone Prices Recommendation System\n",
        "\n",
        "A solution for user's problems regarding the concern that whether the smartphones they've selected is within the range of optimal prices or not? PhonEzy let user provide some information regarding the phone of their choice and recommend them the optimal price for it."
      ],
      "metadata": {
        "id": "kK-7nDi4cpN2"
      }
    },
    {
      "cell_type": "markdown",
      "source": [
        "# Contributors:\n",
        "1.   Muhammad Faizan Khan (CS-21070)\n",
        "2.   Mirza Danyal Baig (CS-21076)\n",
        "3.   Aneeq Akhtar (CS-21101)\n",
        "\n"
      ],
      "metadata": {
        "id": "mPE3-F7p88jL"
      }
    },
    {
      "cell_type": "markdown",
      "source": [
        "# Importing Packages"
      ],
      "metadata": {
        "id": "N_K3JopR_mb2"
      }
    },
    {
      "cell_type": "code",
      "source": [
        "# Importing required libraries and packages\n",
        "import numpy as np\n",
        "import pandas as pd\n",
        "import matplotlib.pyplot as plt\n",
        "import seaborn as sns"
      ],
      "metadata": {
        "id": "sWTjCJORA2HK"
      },
      "execution_count": 1,
      "outputs": []
    },
    {
      "cell_type": "markdown",
      "source": [
        "# Loading Dataset"
      ],
      "metadata": {
        "id": "7O7bs090bPSZ"
      }
    },
    {
      "cell_type": "code",
      "source": [
        "# Importing dataset\n",
        "df = pd.read_csv('smartphonesDataset.csv')"
      ],
      "metadata": {
        "id": "1UqBW7_lBEAs"
      },
      "execution_count": 2,
      "outputs": []
    },
    {
      "cell_type": "code",
      "source": [
        "# Show the dataset\n",
        "df"
      ],
      "metadata": {
        "colab": {
          "base_uri": "https://localhost:8080/",
          "height": 423
        },
        "id": "astezt-rqTV1",
        "outputId": "635e6091-683f-458a-a463-babbbeee8d90"
      },
      "execution_count": 3,
      "outputs": [
        {
          "output_type": "execute_result",
          "data": {
            "text/plain": [
              "                                            Smartphone     Brand  \\\n",
              "0                   Realme C55 8/256GB Sunshower Libre    Realme   \n",
              "1             Samsung Galaxy M23 5G 4/128GB Azul Libre   Samsung   \n",
              "2         Motorola Moto G13 4/128GB Azul Lavanda Libre  Motorola   \n",
              "3             Xiaomi Redmi Note 11S 6/128GB Gris Libre    Xiaomi   \n",
              "4              Nothing Phone (2) 12/512GB Blanco Libre   Nothing   \n",
              "...                                                ...       ...   \n",
              "1811             Xiaomi Redmi Note 8 4/64GB Azul Libre    Xiaomi   \n",
              "1812   Xiaomi Redmi Note 8T 4/128GB Azul Estelar Libre    Xiaomi   \n",
              "1813          Xiaomi Redmi Note 9 4/128GB Blanco Libre    Xiaomi   \n",
              "1814   Xiaomi Redmi Note 9S 4/64GB Dual SIM Gris Libre    Xiaomi   \n",
              "1815  Xiaomi Redmi Note 9S 6/128GB Dual SIM Gris Libre    Xiaomi   \n",
              "\n",
              "               Model   RAM  Storage   Color Free  Final Price  \n",
              "0                C55   8.0    256.0  Yellow  Yes       231.60  \n",
              "1         Galaxy M23   4.0    128.0    Blue  Yes       279.00  \n",
              "2           Moto G13   4.0    128.0    Blue  Yes       179.01  \n",
              "3     Redmi Note 11S   6.0    128.0    Gray  Yes       279.99  \n",
              "4          Phone (2)  12.0    512.0   White  Yes       799.00  \n",
              "...              ...   ...      ...     ...  ...          ...  \n",
              "1811    Redmi Note 8   4.0     64.0    Blue  Yes       249.01  \n",
              "1812   Redmi Note 8T   4.0    128.0    Blue  Yes       200.00  \n",
              "1813    Redmi Note 9   4.0    128.0   White  Yes       269.00  \n",
              "1814         Note 9S   4.0     64.0    Gray  Yes       211.00  \n",
              "1815         Note 9S   6.0    128.0    Gray  Yes       289.00  \n",
              "\n",
              "[1816 rows x 8 columns]"
            ],
            "text/html": [
              "\n",
              "  <div id=\"df-dec5514a-957c-4910-9200-dbf4f019f78a\" class=\"colab-df-container\">\n",
              "    <div>\n",
              "<style scoped>\n",
              "    .dataframe tbody tr th:only-of-type {\n",
              "        vertical-align: middle;\n",
              "    }\n",
              "\n",
              "    .dataframe tbody tr th {\n",
              "        vertical-align: top;\n",
              "    }\n",
              "\n",
              "    .dataframe thead th {\n",
              "        text-align: right;\n",
              "    }\n",
              "</style>\n",
              "<table border=\"1\" class=\"dataframe\">\n",
              "  <thead>\n",
              "    <tr style=\"text-align: right;\">\n",
              "      <th></th>\n",
              "      <th>Smartphone</th>\n",
              "      <th>Brand</th>\n",
              "      <th>Model</th>\n",
              "      <th>RAM</th>\n",
              "      <th>Storage</th>\n",
              "      <th>Color</th>\n",
              "      <th>Free</th>\n",
              "      <th>Final Price</th>\n",
              "    </tr>\n",
              "  </thead>\n",
              "  <tbody>\n",
              "    <tr>\n",
              "      <th>0</th>\n",
              "      <td>Realme C55 8/256GB Sunshower Libre</td>\n",
              "      <td>Realme</td>\n",
              "      <td>C55</td>\n",
              "      <td>8.0</td>\n",
              "      <td>256.0</td>\n",
              "      <td>Yellow</td>\n",
              "      <td>Yes</td>\n",
              "      <td>231.60</td>\n",
              "    </tr>\n",
              "    <tr>\n",
              "      <th>1</th>\n",
              "      <td>Samsung Galaxy M23 5G 4/128GB Azul Libre</td>\n",
              "      <td>Samsung</td>\n",
              "      <td>Galaxy M23</td>\n",
              "      <td>4.0</td>\n",
              "      <td>128.0</td>\n",
              "      <td>Blue</td>\n",
              "      <td>Yes</td>\n",
              "      <td>279.00</td>\n",
              "    </tr>\n",
              "    <tr>\n",
              "      <th>2</th>\n",
              "      <td>Motorola Moto G13 4/128GB Azul Lavanda Libre</td>\n",
              "      <td>Motorola</td>\n",
              "      <td>Moto G13</td>\n",
              "      <td>4.0</td>\n",
              "      <td>128.0</td>\n",
              "      <td>Blue</td>\n",
              "      <td>Yes</td>\n",
              "      <td>179.01</td>\n",
              "    </tr>\n",
              "    <tr>\n",
              "      <th>3</th>\n",
              "      <td>Xiaomi Redmi Note 11S 6/128GB Gris Libre</td>\n",
              "      <td>Xiaomi</td>\n",
              "      <td>Redmi Note 11S</td>\n",
              "      <td>6.0</td>\n",
              "      <td>128.0</td>\n",
              "      <td>Gray</td>\n",
              "      <td>Yes</td>\n",
              "      <td>279.99</td>\n",
              "    </tr>\n",
              "    <tr>\n",
              "      <th>4</th>\n",
              "      <td>Nothing Phone (2) 12/512GB Blanco Libre</td>\n",
              "      <td>Nothing</td>\n",
              "      <td>Phone (2)</td>\n",
              "      <td>12.0</td>\n",
              "      <td>512.0</td>\n",
              "      <td>White</td>\n",
              "      <td>Yes</td>\n",
              "      <td>799.00</td>\n",
              "    </tr>\n",
              "    <tr>\n",
              "      <th>...</th>\n",
              "      <td>...</td>\n",
              "      <td>...</td>\n",
              "      <td>...</td>\n",
              "      <td>...</td>\n",
              "      <td>...</td>\n",
              "      <td>...</td>\n",
              "      <td>...</td>\n",
              "      <td>...</td>\n",
              "    </tr>\n",
              "    <tr>\n",
              "      <th>1811</th>\n",
              "      <td>Xiaomi Redmi Note 8 4/64GB Azul Libre</td>\n",
              "      <td>Xiaomi</td>\n",
              "      <td>Redmi Note 8</td>\n",
              "      <td>4.0</td>\n",
              "      <td>64.0</td>\n",
              "      <td>Blue</td>\n",
              "      <td>Yes</td>\n",
              "      <td>249.01</td>\n",
              "    </tr>\n",
              "    <tr>\n",
              "      <th>1812</th>\n",
              "      <td>Xiaomi Redmi Note 8T 4/128GB Azul Estelar Libre</td>\n",
              "      <td>Xiaomi</td>\n",
              "      <td>Redmi Note 8T</td>\n",
              "      <td>4.0</td>\n",
              "      <td>128.0</td>\n",
              "      <td>Blue</td>\n",
              "      <td>Yes</td>\n",
              "      <td>200.00</td>\n",
              "    </tr>\n",
              "    <tr>\n",
              "      <th>1813</th>\n",
              "      <td>Xiaomi Redmi Note 9 4/128GB Blanco Libre</td>\n",
              "      <td>Xiaomi</td>\n",
              "      <td>Redmi Note 9</td>\n",
              "      <td>4.0</td>\n",
              "      <td>128.0</td>\n",
              "      <td>White</td>\n",
              "      <td>Yes</td>\n",
              "      <td>269.00</td>\n",
              "    </tr>\n",
              "    <tr>\n",
              "      <th>1814</th>\n",
              "      <td>Xiaomi Redmi Note 9S 4/64GB Dual SIM Gris Libre</td>\n",
              "      <td>Xiaomi</td>\n",
              "      <td>Note 9S</td>\n",
              "      <td>4.0</td>\n",
              "      <td>64.0</td>\n",
              "      <td>Gray</td>\n",
              "      <td>Yes</td>\n",
              "      <td>211.00</td>\n",
              "    </tr>\n",
              "    <tr>\n",
              "      <th>1815</th>\n",
              "      <td>Xiaomi Redmi Note 9S 6/128GB Dual SIM Gris Libre</td>\n",
              "      <td>Xiaomi</td>\n",
              "      <td>Note 9S</td>\n",
              "      <td>6.0</td>\n",
              "      <td>128.0</td>\n",
              "      <td>Gray</td>\n",
              "      <td>Yes</td>\n",
              "      <td>289.00</td>\n",
              "    </tr>\n",
              "  </tbody>\n",
              "</table>\n",
              "<p>1816 rows × 8 columns</p>\n",
              "</div>\n",
              "    <div class=\"colab-df-buttons\">\n",
              "\n",
              "  <div class=\"colab-df-container\">\n",
              "    <button class=\"colab-df-convert\" onclick=\"convertToInteractive('df-dec5514a-957c-4910-9200-dbf4f019f78a')\"\n",
              "            title=\"Convert this dataframe to an interactive table.\"\n",
              "            style=\"display:none;\">\n",
              "\n",
              "  <svg xmlns=\"http://www.w3.org/2000/svg\" height=\"24px\" viewBox=\"0 -960 960 960\">\n",
              "    <path d=\"M120-120v-720h720v720H120Zm60-500h600v-160H180v160Zm220 220h160v-160H400v160Zm0 220h160v-160H400v160ZM180-400h160v-160H180v160Zm440 0h160v-160H620v160ZM180-180h160v-160H180v160Zm440 0h160v-160H620v160Z\"/>\n",
              "  </svg>\n",
              "    </button>\n",
              "\n",
              "  <style>\n",
              "    .colab-df-container {\n",
              "      display:flex;\n",
              "      gap: 12px;\n",
              "    }\n",
              "\n",
              "    .colab-df-convert {\n",
              "      background-color: #E8F0FE;\n",
              "      border: none;\n",
              "      border-radius: 50%;\n",
              "      cursor: pointer;\n",
              "      display: none;\n",
              "      fill: #1967D2;\n",
              "      height: 32px;\n",
              "      padding: 0 0 0 0;\n",
              "      width: 32px;\n",
              "    }\n",
              "\n",
              "    .colab-df-convert:hover {\n",
              "      background-color: #E2EBFA;\n",
              "      box-shadow: 0px 1px 2px rgba(60, 64, 67, 0.3), 0px 1px 3px 1px rgba(60, 64, 67, 0.15);\n",
              "      fill: #174EA6;\n",
              "    }\n",
              "\n",
              "    .colab-df-buttons div {\n",
              "      margin-bottom: 4px;\n",
              "    }\n",
              "\n",
              "    [theme=dark] .colab-df-convert {\n",
              "      background-color: #3B4455;\n",
              "      fill: #D2E3FC;\n",
              "    }\n",
              "\n",
              "    [theme=dark] .colab-df-convert:hover {\n",
              "      background-color: #434B5C;\n",
              "      box-shadow: 0px 1px 3px 1px rgba(0, 0, 0, 0.15);\n",
              "      filter: drop-shadow(0px 1px 2px rgba(0, 0, 0, 0.3));\n",
              "      fill: #FFFFFF;\n",
              "    }\n",
              "  </style>\n",
              "\n",
              "    <script>\n",
              "      const buttonEl =\n",
              "        document.querySelector('#df-dec5514a-957c-4910-9200-dbf4f019f78a button.colab-df-convert');\n",
              "      buttonEl.style.display =\n",
              "        google.colab.kernel.accessAllowed ? 'block' : 'none';\n",
              "\n",
              "      async function convertToInteractive(key) {\n",
              "        const element = document.querySelector('#df-dec5514a-957c-4910-9200-dbf4f019f78a');\n",
              "        const dataTable =\n",
              "          await google.colab.kernel.invokeFunction('convertToInteractive',\n",
              "                                                    [key], {});\n",
              "        if (!dataTable) return;\n",
              "\n",
              "        const docLinkHtml = 'Like what you see? Visit the ' +\n",
              "          '<a target=\"_blank\" href=https://colab.research.google.com/notebooks/data_table.ipynb>data table notebook</a>'\n",
              "          + ' to learn more about interactive tables.';\n",
              "        element.innerHTML = '';\n",
              "        dataTable['output_type'] = 'display_data';\n",
              "        await google.colab.output.renderOutput(dataTable, element);\n",
              "        const docLink = document.createElement('div');\n",
              "        docLink.innerHTML = docLinkHtml;\n",
              "        element.appendChild(docLink);\n",
              "      }\n",
              "    </script>\n",
              "  </div>\n",
              "\n",
              "\n",
              "<div id=\"df-9e107a1e-3fe7-45d3-b2ae-6db490705df4\">\n",
              "  <button class=\"colab-df-quickchart\" onclick=\"quickchart('df-9e107a1e-3fe7-45d3-b2ae-6db490705df4')\"\n",
              "            title=\"Suggest charts\"\n",
              "            style=\"display:none;\">\n",
              "\n",
              "<svg xmlns=\"http://www.w3.org/2000/svg\" height=\"24px\"viewBox=\"0 0 24 24\"\n",
              "     width=\"24px\">\n",
              "    <g>\n",
              "        <path d=\"M19 3H5c-1.1 0-2 .9-2 2v14c0 1.1.9 2 2 2h14c1.1 0 2-.9 2-2V5c0-1.1-.9-2-2-2zM9 17H7v-7h2v7zm4 0h-2V7h2v10zm4 0h-2v-4h2v4z\"/>\n",
              "    </g>\n",
              "</svg>\n",
              "  </button>\n",
              "\n",
              "<style>\n",
              "  .colab-df-quickchart {\n",
              "      --bg-color: #E8F0FE;\n",
              "      --fill-color: #1967D2;\n",
              "      --hover-bg-color: #E2EBFA;\n",
              "      --hover-fill-color: #174EA6;\n",
              "      --disabled-fill-color: #AAA;\n",
              "      --disabled-bg-color: #DDD;\n",
              "  }\n",
              "\n",
              "  [theme=dark] .colab-df-quickchart {\n",
              "      --bg-color: #3B4455;\n",
              "      --fill-color: #D2E3FC;\n",
              "      --hover-bg-color: #434B5C;\n",
              "      --hover-fill-color: #FFFFFF;\n",
              "      --disabled-bg-color: #3B4455;\n",
              "      --disabled-fill-color: #666;\n",
              "  }\n",
              "\n",
              "  .colab-df-quickchart {\n",
              "    background-color: var(--bg-color);\n",
              "    border: none;\n",
              "    border-radius: 50%;\n",
              "    cursor: pointer;\n",
              "    display: none;\n",
              "    fill: var(--fill-color);\n",
              "    height: 32px;\n",
              "    padding: 0;\n",
              "    width: 32px;\n",
              "  }\n",
              "\n",
              "  .colab-df-quickchart:hover {\n",
              "    background-color: var(--hover-bg-color);\n",
              "    box-shadow: 0 1px 2px rgba(60, 64, 67, 0.3), 0 1px 3px 1px rgba(60, 64, 67, 0.15);\n",
              "    fill: var(--button-hover-fill-color);\n",
              "  }\n",
              "\n",
              "  .colab-df-quickchart-complete:disabled,\n",
              "  .colab-df-quickchart-complete:disabled:hover {\n",
              "    background-color: var(--disabled-bg-color);\n",
              "    fill: var(--disabled-fill-color);\n",
              "    box-shadow: none;\n",
              "  }\n",
              "\n",
              "  .colab-df-spinner {\n",
              "    border: 2px solid var(--fill-color);\n",
              "    border-color: transparent;\n",
              "    border-bottom-color: var(--fill-color);\n",
              "    animation:\n",
              "      spin 1s steps(1) infinite;\n",
              "  }\n",
              "\n",
              "  @keyframes spin {\n",
              "    0% {\n",
              "      border-color: transparent;\n",
              "      border-bottom-color: var(--fill-color);\n",
              "      border-left-color: var(--fill-color);\n",
              "    }\n",
              "    20% {\n",
              "      border-color: transparent;\n",
              "      border-left-color: var(--fill-color);\n",
              "      border-top-color: var(--fill-color);\n",
              "    }\n",
              "    30% {\n",
              "      border-color: transparent;\n",
              "      border-left-color: var(--fill-color);\n",
              "      border-top-color: var(--fill-color);\n",
              "      border-right-color: var(--fill-color);\n",
              "    }\n",
              "    40% {\n",
              "      border-color: transparent;\n",
              "      border-right-color: var(--fill-color);\n",
              "      border-top-color: var(--fill-color);\n",
              "    }\n",
              "    60% {\n",
              "      border-color: transparent;\n",
              "      border-right-color: var(--fill-color);\n",
              "    }\n",
              "    80% {\n",
              "      border-color: transparent;\n",
              "      border-right-color: var(--fill-color);\n",
              "      border-bottom-color: var(--fill-color);\n",
              "    }\n",
              "    90% {\n",
              "      border-color: transparent;\n",
              "      border-bottom-color: var(--fill-color);\n",
              "    }\n",
              "  }\n",
              "</style>\n",
              "\n",
              "  <script>\n",
              "    async function quickchart(key) {\n",
              "      const quickchartButtonEl =\n",
              "        document.querySelector('#' + key + ' button');\n",
              "      quickchartButtonEl.disabled = true;  // To prevent multiple clicks.\n",
              "      quickchartButtonEl.classList.add('colab-df-spinner');\n",
              "      try {\n",
              "        const charts = await google.colab.kernel.invokeFunction(\n",
              "            'suggestCharts', [key], {});\n",
              "      } catch (error) {\n",
              "        console.error('Error during call to suggestCharts:', error);\n",
              "      }\n",
              "      quickchartButtonEl.classList.remove('colab-df-spinner');\n",
              "      quickchartButtonEl.classList.add('colab-df-quickchart-complete');\n",
              "    }\n",
              "    (() => {\n",
              "      let quickchartButtonEl =\n",
              "        document.querySelector('#df-9e107a1e-3fe7-45d3-b2ae-6db490705df4 button');\n",
              "      quickchartButtonEl.style.display =\n",
              "        google.colab.kernel.accessAllowed ? 'block' : 'none';\n",
              "    })();\n",
              "  </script>\n",
              "</div>\n",
              "\n",
              "  <div id=\"id_dfda106d-518c-49e5-8856-b082f0f296c3\">\n",
              "    <style>\n",
              "      .colab-df-generate {\n",
              "        background-color: #E8F0FE;\n",
              "        border: none;\n",
              "        border-radius: 50%;\n",
              "        cursor: pointer;\n",
              "        display: none;\n",
              "        fill: #1967D2;\n",
              "        height: 32px;\n",
              "        padding: 0 0 0 0;\n",
              "        width: 32px;\n",
              "      }\n",
              "\n",
              "      .colab-df-generate:hover {\n",
              "        background-color: #E2EBFA;\n",
              "        box-shadow: 0px 1px 2px rgba(60, 64, 67, 0.3), 0px 1px 3px 1px rgba(60, 64, 67, 0.15);\n",
              "        fill: #174EA6;\n",
              "      }\n",
              "\n",
              "      [theme=dark] .colab-df-generate {\n",
              "        background-color: #3B4455;\n",
              "        fill: #D2E3FC;\n",
              "      }\n",
              "\n",
              "      [theme=dark] .colab-df-generate:hover {\n",
              "        background-color: #434B5C;\n",
              "        box-shadow: 0px 1px 3px 1px rgba(0, 0, 0, 0.15);\n",
              "        filter: drop-shadow(0px 1px 2px rgba(0, 0, 0, 0.3));\n",
              "        fill: #FFFFFF;\n",
              "      }\n",
              "    </style>\n",
              "    <button class=\"colab-df-generate\" onclick=\"generateWithVariable('df')\"\n",
              "            title=\"Generate code using this dataframe.\"\n",
              "            style=\"display:none;\">\n",
              "\n",
              "  <svg xmlns=\"http://www.w3.org/2000/svg\" height=\"24px\"viewBox=\"0 0 24 24\"\n",
              "       width=\"24px\">\n",
              "    <path d=\"M7,19H8.4L18.45,9,17,7.55,7,17.6ZM5,21V16.75L18.45,3.32a2,2,0,0,1,2.83,0l1.4,1.43a1.91,1.91,0,0,1,.58,1.4,1.91,1.91,0,0,1-.58,1.4L9.25,21ZM18.45,9,17,7.55Zm-12,3A5.31,5.31,0,0,0,4.9,8.1,5.31,5.31,0,0,0,1,6.5,5.31,5.31,0,0,0,4.9,4.9,5.31,5.31,0,0,0,6.5,1,5.31,5.31,0,0,0,8.1,4.9,5.31,5.31,0,0,0,12,6.5,5.46,5.46,0,0,0,6.5,12Z\"/>\n",
              "  </svg>\n",
              "    </button>\n",
              "    <script>\n",
              "      (() => {\n",
              "      const buttonEl =\n",
              "        document.querySelector('#id_dfda106d-518c-49e5-8856-b082f0f296c3 button.colab-df-generate');\n",
              "      buttonEl.style.display =\n",
              "        google.colab.kernel.accessAllowed ? 'block' : 'none';\n",
              "\n",
              "      buttonEl.onclick = () => {\n",
              "        google.colab.notebook.generateWithVariable('df');\n",
              "      }\n",
              "      })();\n",
              "    </script>\n",
              "  </div>\n",
              "\n",
              "    </div>\n",
              "  </div>\n"
            ],
            "application/vnd.google.colaboratory.intrinsic+json": {
              "type": "dataframe",
              "variable_name": "df",
              "summary": "{\n  \"name\": \"df\",\n  \"rows\": 1816,\n  \"fields\": [\n    {\n      \"column\": \"Smartphone\",\n      \"properties\": {\n        \"dtype\": \"string\",\n        \"num_unique_values\": 1816,\n        \"samples\": [\n          \"Samsung Galaxy A03s 3/32GB Negro Libre\",\n          \"Samsung Galaxy S23 128GB Verde Libre\",\n          \"Apple iPhone 14 Pro 512GB Negro Espacial Libre\"\n        ],\n        \"semantic_type\": \"\",\n        \"description\": \"\"\n      }\n    },\n    {\n      \"column\": \"Brand\",\n      \"properties\": {\n        \"dtype\": \"category\",\n        \"num_unique_values\": 37,\n        \"samples\": [\n          \"Ulefone\",\n          \"CAT\",\n          \"Nothing\"\n        ],\n        \"semantic_type\": \"\",\n        \"description\": \"\"\n      }\n    },\n    {\n      \"column\": \"Model\",\n      \"properties\": {\n        \"dtype\": \"category\",\n        \"num_unique_values\": 383,\n        \"samples\": [\n          \"Galaxy XCover 5\",\n          \"8T\",\n          \"MyPhone Blade\"\n        ],\n        \"semantic_type\": \"\",\n        \"description\": \"\"\n      }\n    },\n    {\n      \"column\": \"RAM\",\n      \"properties\": {\n        \"dtype\": \"number\",\n        \"std\": 2.668069942275087,\n        \"min\": 1.0,\n        \"max\": 12.0,\n        \"num_unique_values\": 7,\n        \"samples\": [\n          8.0,\n          4.0,\n          2.0\n        ],\n        \"semantic_type\": \"\",\n        \"description\": \"\"\n      }\n    },\n    {\n      \"column\": \"Storage\",\n      \"properties\": {\n        \"dtype\": \"number\",\n        \"std\": 139.41160529993135,\n        \"min\": 2.0,\n        \"max\": 1000.0,\n        \"num_unique_values\": 12,\n        \"samples\": [\n          3.0,\n          12.0,\n          256.0\n        ],\n        \"semantic_type\": \"\",\n        \"description\": \"\"\n      }\n    },\n    {\n      \"column\": \"Color\",\n      \"properties\": {\n        \"dtype\": \"category\",\n        \"num_unique_values\": 17,\n        \"samples\": [\n          \"Yellow\",\n          \"Blue\",\n          \"Green\"\n        ],\n        \"semantic_type\": \"\",\n        \"description\": \"\"\n      }\n    },\n    {\n      \"column\": \"Free\",\n      \"properties\": {\n        \"dtype\": \"category\",\n        \"num_unique_values\": 2,\n        \"samples\": [\n          \"No\",\n          \"Yes\"\n        ],\n        \"semantic_type\": \"\",\n        \"description\": \"\"\n      }\n    },\n    {\n      \"column\": \"Final Price\",\n      \"properties\": {\n        \"dtype\": \"number\",\n        \"std\": 398.6061825798195,\n        \"min\": 60.46,\n        \"max\": 2271.28,\n        \"num_unique_values\": 1022,\n        \"samples\": [\n          238.72,\n          1193.0\n        ],\n        \"semantic_type\": \"\",\n        \"description\": \"\"\n      }\n    }\n  ]\n}"
            }
          },
          "metadata": {},
          "execution_count": 3
        }
      ]
    },
    {
      "cell_type": "markdown",
      "source": [
        "# Data Cleaning\n",
        "\n",
        "* ## Handling Missing Values"
      ],
      "metadata": {
        "id": "NO9x84xfnujz"
      }
    },
    {
      "cell_type": "code",
      "source": [
        "# Checking for missing values in dataset\n",
        "df.isnull().sum()\n",
        "\n",
        "# Missing values are present in the dataset in RAM and Storage columns"
      ],
      "metadata": {
        "colab": {
          "base_uri": "https://localhost:8080/"
        },
        "id": "KmxKuoNGCv9h",
        "outputId": "77c5bac5-8e2f-4f13-eb96-4dae1ae2b9df"
      },
      "execution_count": 4,
      "outputs": [
        {
          "output_type": "execute_result",
          "data": {
            "text/plain": [
              "Smartphone       0\n",
              "Brand            0\n",
              "Model            0\n",
              "RAM            483\n",
              "Storage         25\n",
              "Color            0\n",
              "Free             0\n",
              "Final Price      0\n",
              "dtype: int64"
            ]
          },
          "metadata": {},
          "execution_count": 4
        }
      ]
    },
    {
      "cell_type": "markdown",
      "source": [
        "There are several ways to fill missing values of the dataset including:\n",
        "*   Imputation: Removal of rows with missing data.\n",
        "*   Mode method: Take mode of data to fill missing records. Useful in filling missing continuous data values.\n",
        "*   Mean method: Take mean of data to fill missing records. Useful in filling missing discrete data values.\n",
        "\n",
        "Since RAM and storage columns are discrete numeric columns, thus we will fill them with mode technique."
      ],
      "metadata": {
        "id": "VJzICGi6P3Cd"
      }
    },
    {
      "cell_type": "code",
      "source": [
        "# Filling missing values of RAM and Storage columns with mode of their respective data\n",
        "df.fillna({'RAM': df['RAM'].mode()[0]} , inplace = True)\n",
        "df.fillna({'Storage': df['Storage'].mode()[0]} , inplace = True)"
      ],
      "metadata": {
        "id": "a889qwg0Dyn4"
      },
      "execution_count": 5,
      "outputs": []
    },
    {
      "cell_type": "code",
      "source": [
        "# Checking for missing values again\n",
        "df.isnull().sum()"
      ],
      "metadata": {
        "colab": {
          "base_uri": "https://localhost:8080/"
        },
        "id": "LcsSqACfD6wp",
        "outputId": "db170133-8e57-4da3-a6c2-129ab4f796e3"
      },
      "execution_count": 6,
      "outputs": [
        {
          "output_type": "execute_result",
          "data": {
            "text/plain": [
              "Smartphone     0\n",
              "Brand          0\n",
              "Model          0\n",
              "RAM            0\n",
              "Storage        0\n",
              "Color          0\n",
              "Free           0\n",
              "Final Price    0\n",
              "dtype: int64"
            ]
          },
          "metadata": {},
          "execution_count": 6
        }
      ]
    },
    {
      "cell_type": "markdown",
      "source": [
        "* ## Handling Duplicate Rows\n",
        "\n",
        "Since duplication of records can lead to overfitting of data in model, thus we will remove it."
      ],
      "metadata": {
        "id": "POfk05zCoMOm"
      }
    },
    {
      "cell_type": "code",
      "source": [
        "# Checking for duplicate rows\n",
        "df.duplicated().sum()\n",
        "\n",
        "# No duplicates rows are found in dataset"
      ],
      "metadata": {
        "colab": {
          "base_uri": "https://localhost:8080/"
        },
        "id": "6hl-wT-QDOR0",
        "outputId": "db8d67ca-7b59-4364-da04-dcf4150c6bff"
      },
      "execution_count": 7,
      "outputs": [
        {
          "output_type": "execute_result",
          "data": {
            "text/plain": [
              "0"
            ]
          },
          "metadata": {},
          "execution_count": 7
        }
      ]
    },
    {
      "cell_type": "markdown",
      "source": [
        "# Exploratory Data Analysis (EDA)\n",
        "\n",
        "Now we will perform Exploratory Data Analysis (EDA) on dataset to gain insight regarding different patterns in data and compare different relationships between features of dataset."
      ],
      "metadata": {
        "id": "dQqmL0oYovxh"
      }
    },
    {
      "cell_type": "code",
      "source": [
        "# Show the shape of dataset\n",
        "\n",
        "df.shape"
      ],
      "metadata": {
        "colab": {
          "base_uri": "https://localhost:8080/"
        },
        "id": "prXADccUqb3N",
        "outputId": "1d6ac4cf-01ef-4782-b36c-ff38e1eaf58c"
      },
      "execution_count": 8,
      "outputs": [
        {
          "output_type": "execute_result",
          "data": {
            "text/plain": [
              "(1816, 8)"
            ]
          },
          "metadata": {},
          "execution_count": 8
        }
      ]
    },
    {
      "cell_type": "code",
      "source": [
        "# Show initial 5 rows of the dataset\n",
        "df.head()"
      ],
      "metadata": {
        "colab": {
          "base_uri": "https://localhost:8080/",
          "height": 206
        },
        "id": "JsMWZYrkTwYM",
        "outputId": "b459abde-1607-4e56-83b3-67da08004d13"
      },
      "execution_count": 9,
      "outputs": [
        {
          "output_type": "execute_result",
          "data": {
            "text/plain": [
              "                                     Smartphone     Brand           Model  \\\n",
              "0            Realme C55 8/256GB Sunshower Libre    Realme             C55   \n",
              "1      Samsung Galaxy M23 5G 4/128GB Azul Libre   Samsung      Galaxy M23   \n",
              "2  Motorola Moto G13 4/128GB Azul Lavanda Libre  Motorola        Moto G13   \n",
              "3      Xiaomi Redmi Note 11S 6/128GB Gris Libre    Xiaomi  Redmi Note 11S   \n",
              "4       Nothing Phone (2) 12/512GB Blanco Libre   Nothing       Phone (2)   \n",
              "\n",
              "    RAM  Storage   Color Free  Final Price  \n",
              "0   8.0    256.0  Yellow  Yes       231.60  \n",
              "1   4.0    128.0    Blue  Yes       279.00  \n",
              "2   4.0    128.0    Blue  Yes       179.01  \n",
              "3   6.0    128.0    Gray  Yes       279.99  \n",
              "4  12.0    512.0   White  Yes       799.00  "
            ],
            "text/html": [
              "\n",
              "  <div id=\"df-f51732b6-9742-4f6d-8830-bc0b81d44b94\" class=\"colab-df-container\">\n",
              "    <div>\n",
              "<style scoped>\n",
              "    .dataframe tbody tr th:only-of-type {\n",
              "        vertical-align: middle;\n",
              "    }\n",
              "\n",
              "    .dataframe tbody tr th {\n",
              "        vertical-align: top;\n",
              "    }\n",
              "\n",
              "    .dataframe thead th {\n",
              "        text-align: right;\n",
              "    }\n",
              "</style>\n",
              "<table border=\"1\" class=\"dataframe\">\n",
              "  <thead>\n",
              "    <tr style=\"text-align: right;\">\n",
              "      <th></th>\n",
              "      <th>Smartphone</th>\n",
              "      <th>Brand</th>\n",
              "      <th>Model</th>\n",
              "      <th>RAM</th>\n",
              "      <th>Storage</th>\n",
              "      <th>Color</th>\n",
              "      <th>Free</th>\n",
              "      <th>Final Price</th>\n",
              "    </tr>\n",
              "  </thead>\n",
              "  <tbody>\n",
              "    <tr>\n",
              "      <th>0</th>\n",
              "      <td>Realme C55 8/256GB Sunshower Libre</td>\n",
              "      <td>Realme</td>\n",
              "      <td>C55</td>\n",
              "      <td>8.0</td>\n",
              "      <td>256.0</td>\n",
              "      <td>Yellow</td>\n",
              "      <td>Yes</td>\n",
              "      <td>231.60</td>\n",
              "    </tr>\n",
              "    <tr>\n",
              "      <th>1</th>\n",
              "      <td>Samsung Galaxy M23 5G 4/128GB Azul Libre</td>\n",
              "      <td>Samsung</td>\n",
              "      <td>Galaxy M23</td>\n",
              "      <td>4.0</td>\n",
              "      <td>128.0</td>\n",
              "      <td>Blue</td>\n",
              "      <td>Yes</td>\n",
              "      <td>279.00</td>\n",
              "    </tr>\n",
              "    <tr>\n",
              "      <th>2</th>\n",
              "      <td>Motorola Moto G13 4/128GB Azul Lavanda Libre</td>\n",
              "      <td>Motorola</td>\n",
              "      <td>Moto G13</td>\n",
              "      <td>4.0</td>\n",
              "      <td>128.0</td>\n",
              "      <td>Blue</td>\n",
              "      <td>Yes</td>\n",
              "      <td>179.01</td>\n",
              "    </tr>\n",
              "    <tr>\n",
              "      <th>3</th>\n",
              "      <td>Xiaomi Redmi Note 11S 6/128GB Gris Libre</td>\n",
              "      <td>Xiaomi</td>\n",
              "      <td>Redmi Note 11S</td>\n",
              "      <td>6.0</td>\n",
              "      <td>128.0</td>\n",
              "      <td>Gray</td>\n",
              "      <td>Yes</td>\n",
              "      <td>279.99</td>\n",
              "    </tr>\n",
              "    <tr>\n",
              "      <th>4</th>\n",
              "      <td>Nothing Phone (2) 12/512GB Blanco Libre</td>\n",
              "      <td>Nothing</td>\n",
              "      <td>Phone (2)</td>\n",
              "      <td>12.0</td>\n",
              "      <td>512.0</td>\n",
              "      <td>White</td>\n",
              "      <td>Yes</td>\n",
              "      <td>799.00</td>\n",
              "    </tr>\n",
              "  </tbody>\n",
              "</table>\n",
              "</div>\n",
              "    <div class=\"colab-df-buttons\">\n",
              "\n",
              "  <div class=\"colab-df-container\">\n",
              "    <button class=\"colab-df-convert\" onclick=\"convertToInteractive('df-f51732b6-9742-4f6d-8830-bc0b81d44b94')\"\n",
              "            title=\"Convert this dataframe to an interactive table.\"\n",
              "            style=\"display:none;\">\n",
              "\n",
              "  <svg xmlns=\"http://www.w3.org/2000/svg\" height=\"24px\" viewBox=\"0 -960 960 960\">\n",
              "    <path d=\"M120-120v-720h720v720H120Zm60-500h600v-160H180v160Zm220 220h160v-160H400v160Zm0 220h160v-160H400v160ZM180-400h160v-160H180v160Zm440 0h160v-160H620v160ZM180-180h160v-160H180v160Zm440 0h160v-160H620v160Z\"/>\n",
              "  </svg>\n",
              "    </button>\n",
              "\n",
              "  <style>\n",
              "    .colab-df-container {\n",
              "      display:flex;\n",
              "      gap: 12px;\n",
              "    }\n",
              "\n",
              "    .colab-df-convert {\n",
              "      background-color: #E8F0FE;\n",
              "      border: none;\n",
              "      border-radius: 50%;\n",
              "      cursor: pointer;\n",
              "      display: none;\n",
              "      fill: #1967D2;\n",
              "      height: 32px;\n",
              "      padding: 0 0 0 0;\n",
              "      width: 32px;\n",
              "    }\n",
              "\n",
              "    .colab-df-convert:hover {\n",
              "      background-color: #E2EBFA;\n",
              "      box-shadow: 0px 1px 2px rgba(60, 64, 67, 0.3), 0px 1px 3px 1px rgba(60, 64, 67, 0.15);\n",
              "      fill: #174EA6;\n",
              "    }\n",
              "\n",
              "    .colab-df-buttons div {\n",
              "      margin-bottom: 4px;\n",
              "    }\n",
              "\n",
              "    [theme=dark] .colab-df-convert {\n",
              "      background-color: #3B4455;\n",
              "      fill: #D2E3FC;\n",
              "    }\n",
              "\n",
              "    [theme=dark] .colab-df-convert:hover {\n",
              "      background-color: #434B5C;\n",
              "      box-shadow: 0px 1px 3px 1px rgba(0, 0, 0, 0.15);\n",
              "      filter: drop-shadow(0px 1px 2px rgba(0, 0, 0, 0.3));\n",
              "      fill: #FFFFFF;\n",
              "    }\n",
              "  </style>\n",
              "\n",
              "    <script>\n",
              "      const buttonEl =\n",
              "        document.querySelector('#df-f51732b6-9742-4f6d-8830-bc0b81d44b94 button.colab-df-convert');\n",
              "      buttonEl.style.display =\n",
              "        google.colab.kernel.accessAllowed ? 'block' : 'none';\n",
              "\n",
              "      async function convertToInteractive(key) {\n",
              "        const element = document.querySelector('#df-f51732b6-9742-4f6d-8830-bc0b81d44b94');\n",
              "        const dataTable =\n",
              "          await google.colab.kernel.invokeFunction('convertToInteractive',\n",
              "                                                    [key], {});\n",
              "        if (!dataTable) return;\n",
              "\n",
              "        const docLinkHtml = 'Like what you see? Visit the ' +\n",
              "          '<a target=\"_blank\" href=https://colab.research.google.com/notebooks/data_table.ipynb>data table notebook</a>'\n",
              "          + ' to learn more about interactive tables.';\n",
              "        element.innerHTML = '';\n",
              "        dataTable['output_type'] = 'display_data';\n",
              "        await google.colab.output.renderOutput(dataTable, element);\n",
              "        const docLink = document.createElement('div');\n",
              "        docLink.innerHTML = docLinkHtml;\n",
              "        element.appendChild(docLink);\n",
              "      }\n",
              "    </script>\n",
              "  </div>\n",
              "\n",
              "\n",
              "<div id=\"df-5467e63e-3940-48d6-aa0c-e132b8f0d818\">\n",
              "  <button class=\"colab-df-quickchart\" onclick=\"quickchart('df-5467e63e-3940-48d6-aa0c-e132b8f0d818')\"\n",
              "            title=\"Suggest charts\"\n",
              "            style=\"display:none;\">\n",
              "\n",
              "<svg xmlns=\"http://www.w3.org/2000/svg\" height=\"24px\"viewBox=\"0 0 24 24\"\n",
              "     width=\"24px\">\n",
              "    <g>\n",
              "        <path d=\"M19 3H5c-1.1 0-2 .9-2 2v14c0 1.1.9 2 2 2h14c1.1 0 2-.9 2-2V5c0-1.1-.9-2-2-2zM9 17H7v-7h2v7zm4 0h-2V7h2v10zm4 0h-2v-4h2v4z\"/>\n",
              "    </g>\n",
              "</svg>\n",
              "  </button>\n",
              "\n",
              "<style>\n",
              "  .colab-df-quickchart {\n",
              "      --bg-color: #E8F0FE;\n",
              "      --fill-color: #1967D2;\n",
              "      --hover-bg-color: #E2EBFA;\n",
              "      --hover-fill-color: #174EA6;\n",
              "      --disabled-fill-color: #AAA;\n",
              "      --disabled-bg-color: #DDD;\n",
              "  }\n",
              "\n",
              "  [theme=dark] .colab-df-quickchart {\n",
              "      --bg-color: #3B4455;\n",
              "      --fill-color: #D2E3FC;\n",
              "      --hover-bg-color: #434B5C;\n",
              "      --hover-fill-color: #FFFFFF;\n",
              "      --disabled-bg-color: #3B4455;\n",
              "      --disabled-fill-color: #666;\n",
              "  }\n",
              "\n",
              "  .colab-df-quickchart {\n",
              "    background-color: var(--bg-color);\n",
              "    border: none;\n",
              "    border-radius: 50%;\n",
              "    cursor: pointer;\n",
              "    display: none;\n",
              "    fill: var(--fill-color);\n",
              "    height: 32px;\n",
              "    padding: 0;\n",
              "    width: 32px;\n",
              "  }\n",
              "\n",
              "  .colab-df-quickchart:hover {\n",
              "    background-color: var(--hover-bg-color);\n",
              "    box-shadow: 0 1px 2px rgba(60, 64, 67, 0.3), 0 1px 3px 1px rgba(60, 64, 67, 0.15);\n",
              "    fill: var(--button-hover-fill-color);\n",
              "  }\n",
              "\n",
              "  .colab-df-quickchart-complete:disabled,\n",
              "  .colab-df-quickchart-complete:disabled:hover {\n",
              "    background-color: var(--disabled-bg-color);\n",
              "    fill: var(--disabled-fill-color);\n",
              "    box-shadow: none;\n",
              "  }\n",
              "\n",
              "  .colab-df-spinner {\n",
              "    border: 2px solid var(--fill-color);\n",
              "    border-color: transparent;\n",
              "    border-bottom-color: var(--fill-color);\n",
              "    animation:\n",
              "      spin 1s steps(1) infinite;\n",
              "  }\n",
              "\n",
              "  @keyframes spin {\n",
              "    0% {\n",
              "      border-color: transparent;\n",
              "      border-bottom-color: var(--fill-color);\n",
              "      border-left-color: var(--fill-color);\n",
              "    }\n",
              "    20% {\n",
              "      border-color: transparent;\n",
              "      border-left-color: var(--fill-color);\n",
              "      border-top-color: var(--fill-color);\n",
              "    }\n",
              "    30% {\n",
              "      border-color: transparent;\n",
              "      border-left-color: var(--fill-color);\n",
              "      border-top-color: var(--fill-color);\n",
              "      border-right-color: var(--fill-color);\n",
              "    }\n",
              "    40% {\n",
              "      border-color: transparent;\n",
              "      border-right-color: var(--fill-color);\n",
              "      border-top-color: var(--fill-color);\n",
              "    }\n",
              "    60% {\n",
              "      border-color: transparent;\n",
              "      border-right-color: var(--fill-color);\n",
              "    }\n",
              "    80% {\n",
              "      border-color: transparent;\n",
              "      border-right-color: var(--fill-color);\n",
              "      border-bottom-color: var(--fill-color);\n",
              "    }\n",
              "    90% {\n",
              "      border-color: transparent;\n",
              "      border-bottom-color: var(--fill-color);\n",
              "    }\n",
              "  }\n",
              "</style>\n",
              "\n",
              "  <script>\n",
              "    async function quickchart(key) {\n",
              "      const quickchartButtonEl =\n",
              "        document.querySelector('#' + key + ' button');\n",
              "      quickchartButtonEl.disabled = true;  // To prevent multiple clicks.\n",
              "      quickchartButtonEl.classList.add('colab-df-spinner');\n",
              "      try {\n",
              "        const charts = await google.colab.kernel.invokeFunction(\n",
              "            'suggestCharts', [key], {});\n",
              "      } catch (error) {\n",
              "        console.error('Error during call to suggestCharts:', error);\n",
              "      }\n",
              "      quickchartButtonEl.classList.remove('colab-df-spinner');\n",
              "      quickchartButtonEl.classList.add('colab-df-quickchart-complete');\n",
              "    }\n",
              "    (() => {\n",
              "      let quickchartButtonEl =\n",
              "        document.querySelector('#df-5467e63e-3940-48d6-aa0c-e132b8f0d818 button');\n",
              "      quickchartButtonEl.style.display =\n",
              "        google.colab.kernel.accessAllowed ? 'block' : 'none';\n",
              "    })();\n",
              "  </script>\n",
              "</div>\n",
              "\n",
              "    </div>\n",
              "  </div>\n"
            ],
            "application/vnd.google.colaboratory.intrinsic+json": {
              "type": "dataframe",
              "variable_name": "df",
              "summary": "{\n  \"name\": \"df\",\n  \"rows\": 1816,\n  \"fields\": [\n    {\n      \"column\": \"Smartphone\",\n      \"properties\": {\n        \"dtype\": \"string\",\n        \"num_unique_values\": 1816,\n        \"samples\": [\n          \"Samsung Galaxy A03s 3/32GB Negro Libre\",\n          \"Samsung Galaxy S23 128GB Verde Libre\",\n          \"Apple iPhone 14 Pro 512GB Negro Espacial Libre\"\n        ],\n        \"semantic_type\": \"\",\n        \"description\": \"\"\n      }\n    },\n    {\n      \"column\": \"Brand\",\n      \"properties\": {\n        \"dtype\": \"category\",\n        \"num_unique_values\": 37,\n        \"samples\": [\n          \"Ulefone\",\n          \"CAT\",\n          \"Nothing\"\n        ],\n        \"semantic_type\": \"\",\n        \"description\": \"\"\n      }\n    },\n    {\n      \"column\": \"Model\",\n      \"properties\": {\n        \"dtype\": \"category\",\n        \"num_unique_values\": 383,\n        \"samples\": [\n          \"Galaxy XCover 5\",\n          \"8T\",\n          \"MyPhone Blade\"\n        ],\n        \"semantic_type\": \"\",\n        \"description\": \"\"\n      }\n    },\n    {\n      \"column\": \"RAM\",\n      \"properties\": {\n        \"dtype\": \"number\",\n        \"std\": 2.45689900365605,\n        \"min\": 1.0,\n        \"max\": 12.0,\n        \"num_unique_values\": 7,\n        \"samples\": [\n          8.0,\n          4.0,\n          2.0\n        ],\n        \"semantic_type\": \"\",\n        \"description\": \"\"\n      }\n    },\n    {\n      \"column\": \"Storage\",\n      \"properties\": {\n        \"dtype\": \"number\",\n        \"std\": 138.5070381698251,\n        \"min\": 2.0,\n        \"max\": 1000.0,\n        \"num_unique_values\": 12,\n        \"samples\": [\n          3.0,\n          12.0,\n          256.0\n        ],\n        \"semantic_type\": \"\",\n        \"description\": \"\"\n      }\n    },\n    {\n      \"column\": \"Color\",\n      \"properties\": {\n        \"dtype\": \"category\",\n        \"num_unique_values\": 17,\n        \"samples\": [\n          \"Yellow\",\n          \"Blue\",\n          \"Green\"\n        ],\n        \"semantic_type\": \"\",\n        \"description\": \"\"\n      }\n    },\n    {\n      \"column\": \"Free\",\n      \"properties\": {\n        \"dtype\": \"category\",\n        \"num_unique_values\": 2,\n        \"samples\": [\n          \"No\",\n          \"Yes\"\n        ],\n        \"semantic_type\": \"\",\n        \"description\": \"\"\n      }\n    },\n    {\n      \"column\": \"Final Price\",\n      \"properties\": {\n        \"dtype\": \"number\",\n        \"std\": 398.6061825798195,\n        \"min\": 60.46,\n        \"max\": 2271.28,\n        \"num_unique_values\": 1022,\n        \"samples\": [\n          238.72,\n          1193.0\n        ],\n        \"semantic_type\": \"\",\n        \"description\": \"\"\n      }\n    }\n  ]\n}"
            }
          },
          "metadata": {},
          "execution_count": 9
        }
      ]
    },
    {
      "cell_type": "markdown",
      "source": [
        "* ## Summary of Dataset"
      ],
      "metadata": {
        "id": "AThEUOeSpKG6"
      }
    },
    {
      "cell_type": "code",
      "source": [
        "# Show information about the dataset\n",
        "df.info()"
      ],
      "metadata": {
        "colab": {
          "base_uri": "https://localhost:8080/"
        },
        "id": "rivIs1TpCL5E",
        "outputId": "37da090d-26d1-4fe2-9304-f94ef865a1a9"
      },
      "execution_count": 10,
      "outputs": [
        {
          "output_type": "stream",
          "name": "stdout",
          "text": [
            "<class 'pandas.core.frame.DataFrame'>\n",
            "RangeIndex: 1816 entries, 0 to 1815\n",
            "Data columns (total 8 columns):\n",
            " #   Column       Non-Null Count  Dtype  \n",
            "---  ------       --------------  -----  \n",
            " 0   Smartphone   1816 non-null   object \n",
            " 1   Brand        1816 non-null   object \n",
            " 2   Model        1816 non-null   object \n",
            " 3   RAM          1816 non-null   float64\n",
            " 4   Storage      1816 non-null   float64\n",
            " 5   Color        1816 non-null   object \n",
            " 6   Free         1816 non-null   object \n",
            " 7   Final Price  1816 non-null   float64\n",
            "dtypes: float64(3), object(5)\n",
            "memory usage: 113.6+ KB\n"
          ]
        }
      ]
    },
    {
      "cell_type": "markdown",
      "source": [
        "Now we will show the statistical data summary of dataset."
      ],
      "metadata": {
        "id": "o2iXH1FLS1Ee"
      }
    },
    {
      "cell_type": "code",
      "source": [
        "# Show summary of the dataset\n",
        "df.describe()"
      ],
      "metadata": {
        "colab": {
          "base_uri": "https://localhost:8080/",
          "height": 300
        },
        "id": "HrEut0zICfRl",
        "outputId": "e556cad6-4b27-46a7-e552-5df9069b5d94"
      },
      "execution_count": 11,
      "outputs": [
        {
          "output_type": "execute_result",
          "data": {
            "text/plain": [
              "               RAM      Storage  Final Price\n",
              "count  1816.000000  1816.000000  1816.000000\n",
              "mean      6.503304   162.175110   492.175573\n",
              "std       2.456899   138.507038   398.606183\n",
              "min       1.000000     2.000000    60.460000\n",
              "25%       4.000000    64.000000   200.990000\n",
              "50%       8.000000   128.000000   349.990000\n",
              "75%       8.000000   256.000000   652.717500\n",
              "max      12.000000  1000.000000  2271.280000"
            ],
            "text/html": [
              "\n",
              "  <div id=\"df-9d8906e0-6fc0-4859-9ce9-cc99b83686ba\" class=\"colab-df-container\">\n",
              "    <div>\n",
              "<style scoped>\n",
              "    .dataframe tbody tr th:only-of-type {\n",
              "        vertical-align: middle;\n",
              "    }\n",
              "\n",
              "    .dataframe tbody tr th {\n",
              "        vertical-align: top;\n",
              "    }\n",
              "\n",
              "    .dataframe thead th {\n",
              "        text-align: right;\n",
              "    }\n",
              "</style>\n",
              "<table border=\"1\" class=\"dataframe\">\n",
              "  <thead>\n",
              "    <tr style=\"text-align: right;\">\n",
              "      <th></th>\n",
              "      <th>RAM</th>\n",
              "      <th>Storage</th>\n",
              "      <th>Final Price</th>\n",
              "    </tr>\n",
              "  </thead>\n",
              "  <tbody>\n",
              "    <tr>\n",
              "      <th>count</th>\n",
              "      <td>1816.000000</td>\n",
              "      <td>1816.000000</td>\n",
              "      <td>1816.000000</td>\n",
              "    </tr>\n",
              "    <tr>\n",
              "      <th>mean</th>\n",
              "      <td>6.503304</td>\n",
              "      <td>162.175110</td>\n",
              "      <td>492.175573</td>\n",
              "    </tr>\n",
              "    <tr>\n",
              "      <th>std</th>\n",
              "      <td>2.456899</td>\n",
              "      <td>138.507038</td>\n",
              "      <td>398.606183</td>\n",
              "    </tr>\n",
              "    <tr>\n",
              "      <th>min</th>\n",
              "      <td>1.000000</td>\n",
              "      <td>2.000000</td>\n",
              "      <td>60.460000</td>\n",
              "    </tr>\n",
              "    <tr>\n",
              "      <th>25%</th>\n",
              "      <td>4.000000</td>\n",
              "      <td>64.000000</td>\n",
              "      <td>200.990000</td>\n",
              "    </tr>\n",
              "    <tr>\n",
              "      <th>50%</th>\n",
              "      <td>8.000000</td>\n",
              "      <td>128.000000</td>\n",
              "      <td>349.990000</td>\n",
              "    </tr>\n",
              "    <tr>\n",
              "      <th>75%</th>\n",
              "      <td>8.000000</td>\n",
              "      <td>256.000000</td>\n",
              "      <td>652.717500</td>\n",
              "    </tr>\n",
              "    <tr>\n",
              "      <th>max</th>\n",
              "      <td>12.000000</td>\n",
              "      <td>1000.000000</td>\n",
              "      <td>2271.280000</td>\n",
              "    </tr>\n",
              "  </tbody>\n",
              "</table>\n",
              "</div>\n",
              "    <div class=\"colab-df-buttons\">\n",
              "\n",
              "  <div class=\"colab-df-container\">\n",
              "    <button class=\"colab-df-convert\" onclick=\"convertToInteractive('df-9d8906e0-6fc0-4859-9ce9-cc99b83686ba')\"\n",
              "            title=\"Convert this dataframe to an interactive table.\"\n",
              "            style=\"display:none;\">\n",
              "\n",
              "  <svg xmlns=\"http://www.w3.org/2000/svg\" height=\"24px\" viewBox=\"0 -960 960 960\">\n",
              "    <path d=\"M120-120v-720h720v720H120Zm60-500h600v-160H180v160Zm220 220h160v-160H400v160Zm0 220h160v-160H400v160ZM180-400h160v-160H180v160Zm440 0h160v-160H620v160ZM180-180h160v-160H180v160Zm440 0h160v-160H620v160Z\"/>\n",
              "  </svg>\n",
              "    </button>\n",
              "\n",
              "  <style>\n",
              "    .colab-df-container {\n",
              "      display:flex;\n",
              "      gap: 12px;\n",
              "    }\n",
              "\n",
              "    .colab-df-convert {\n",
              "      background-color: #E8F0FE;\n",
              "      border: none;\n",
              "      border-radius: 50%;\n",
              "      cursor: pointer;\n",
              "      display: none;\n",
              "      fill: #1967D2;\n",
              "      height: 32px;\n",
              "      padding: 0 0 0 0;\n",
              "      width: 32px;\n",
              "    }\n",
              "\n",
              "    .colab-df-convert:hover {\n",
              "      background-color: #E2EBFA;\n",
              "      box-shadow: 0px 1px 2px rgba(60, 64, 67, 0.3), 0px 1px 3px 1px rgba(60, 64, 67, 0.15);\n",
              "      fill: #174EA6;\n",
              "    }\n",
              "\n",
              "    .colab-df-buttons div {\n",
              "      margin-bottom: 4px;\n",
              "    }\n",
              "\n",
              "    [theme=dark] .colab-df-convert {\n",
              "      background-color: #3B4455;\n",
              "      fill: #D2E3FC;\n",
              "    }\n",
              "\n",
              "    [theme=dark] .colab-df-convert:hover {\n",
              "      background-color: #434B5C;\n",
              "      box-shadow: 0px 1px 3px 1px rgba(0, 0, 0, 0.15);\n",
              "      filter: drop-shadow(0px 1px 2px rgba(0, 0, 0, 0.3));\n",
              "      fill: #FFFFFF;\n",
              "    }\n",
              "  </style>\n",
              "\n",
              "    <script>\n",
              "      const buttonEl =\n",
              "        document.querySelector('#df-9d8906e0-6fc0-4859-9ce9-cc99b83686ba button.colab-df-convert');\n",
              "      buttonEl.style.display =\n",
              "        google.colab.kernel.accessAllowed ? 'block' : 'none';\n",
              "\n",
              "      async function convertToInteractive(key) {\n",
              "        const element = document.querySelector('#df-9d8906e0-6fc0-4859-9ce9-cc99b83686ba');\n",
              "        const dataTable =\n",
              "          await google.colab.kernel.invokeFunction('convertToInteractive',\n",
              "                                                    [key], {});\n",
              "        if (!dataTable) return;\n",
              "\n",
              "        const docLinkHtml = 'Like what you see? Visit the ' +\n",
              "          '<a target=\"_blank\" href=https://colab.research.google.com/notebooks/data_table.ipynb>data table notebook</a>'\n",
              "          + ' to learn more about interactive tables.';\n",
              "        element.innerHTML = '';\n",
              "        dataTable['output_type'] = 'display_data';\n",
              "        await google.colab.output.renderOutput(dataTable, element);\n",
              "        const docLink = document.createElement('div');\n",
              "        docLink.innerHTML = docLinkHtml;\n",
              "        element.appendChild(docLink);\n",
              "      }\n",
              "    </script>\n",
              "  </div>\n",
              "\n",
              "\n",
              "<div id=\"df-efc6ec77-300a-47ae-ae51-b37ab45d8db2\">\n",
              "  <button class=\"colab-df-quickchart\" onclick=\"quickchart('df-efc6ec77-300a-47ae-ae51-b37ab45d8db2')\"\n",
              "            title=\"Suggest charts\"\n",
              "            style=\"display:none;\">\n",
              "\n",
              "<svg xmlns=\"http://www.w3.org/2000/svg\" height=\"24px\"viewBox=\"0 0 24 24\"\n",
              "     width=\"24px\">\n",
              "    <g>\n",
              "        <path d=\"M19 3H5c-1.1 0-2 .9-2 2v14c0 1.1.9 2 2 2h14c1.1 0 2-.9 2-2V5c0-1.1-.9-2-2-2zM9 17H7v-7h2v7zm4 0h-2V7h2v10zm4 0h-2v-4h2v4z\"/>\n",
              "    </g>\n",
              "</svg>\n",
              "  </button>\n",
              "\n",
              "<style>\n",
              "  .colab-df-quickchart {\n",
              "      --bg-color: #E8F0FE;\n",
              "      --fill-color: #1967D2;\n",
              "      --hover-bg-color: #E2EBFA;\n",
              "      --hover-fill-color: #174EA6;\n",
              "      --disabled-fill-color: #AAA;\n",
              "      --disabled-bg-color: #DDD;\n",
              "  }\n",
              "\n",
              "  [theme=dark] .colab-df-quickchart {\n",
              "      --bg-color: #3B4455;\n",
              "      --fill-color: #D2E3FC;\n",
              "      --hover-bg-color: #434B5C;\n",
              "      --hover-fill-color: #FFFFFF;\n",
              "      --disabled-bg-color: #3B4455;\n",
              "      --disabled-fill-color: #666;\n",
              "  }\n",
              "\n",
              "  .colab-df-quickchart {\n",
              "    background-color: var(--bg-color);\n",
              "    border: none;\n",
              "    border-radius: 50%;\n",
              "    cursor: pointer;\n",
              "    display: none;\n",
              "    fill: var(--fill-color);\n",
              "    height: 32px;\n",
              "    padding: 0;\n",
              "    width: 32px;\n",
              "  }\n",
              "\n",
              "  .colab-df-quickchart:hover {\n",
              "    background-color: var(--hover-bg-color);\n",
              "    box-shadow: 0 1px 2px rgba(60, 64, 67, 0.3), 0 1px 3px 1px rgba(60, 64, 67, 0.15);\n",
              "    fill: var(--button-hover-fill-color);\n",
              "  }\n",
              "\n",
              "  .colab-df-quickchart-complete:disabled,\n",
              "  .colab-df-quickchart-complete:disabled:hover {\n",
              "    background-color: var(--disabled-bg-color);\n",
              "    fill: var(--disabled-fill-color);\n",
              "    box-shadow: none;\n",
              "  }\n",
              "\n",
              "  .colab-df-spinner {\n",
              "    border: 2px solid var(--fill-color);\n",
              "    border-color: transparent;\n",
              "    border-bottom-color: var(--fill-color);\n",
              "    animation:\n",
              "      spin 1s steps(1) infinite;\n",
              "  }\n",
              "\n",
              "  @keyframes spin {\n",
              "    0% {\n",
              "      border-color: transparent;\n",
              "      border-bottom-color: var(--fill-color);\n",
              "      border-left-color: var(--fill-color);\n",
              "    }\n",
              "    20% {\n",
              "      border-color: transparent;\n",
              "      border-left-color: var(--fill-color);\n",
              "      border-top-color: var(--fill-color);\n",
              "    }\n",
              "    30% {\n",
              "      border-color: transparent;\n",
              "      border-left-color: var(--fill-color);\n",
              "      border-top-color: var(--fill-color);\n",
              "      border-right-color: var(--fill-color);\n",
              "    }\n",
              "    40% {\n",
              "      border-color: transparent;\n",
              "      border-right-color: var(--fill-color);\n",
              "      border-top-color: var(--fill-color);\n",
              "    }\n",
              "    60% {\n",
              "      border-color: transparent;\n",
              "      border-right-color: var(--fill-color);\n",
              "    }\n",
              "    80% {\n",
              "      border-color: transparent;\n",
              "      border-right-color: var(--fill-color);\n",
              "      border-bottom-color: var(--fill-color);\n",
              "    }\n",
              "    90% {\n",
              "      border-color: transparent;\n",
              "      border-bottom-color: var(--fill-color);\n",
              "    }\n",
              "  }\n",
              "</style>\n",
              "\n",
              "  <script>\n",
              "    async function quickchart(key) {\n",
              "      const quickchartButtonEl =\n",
              "        document.querySelector('#' + key + ' button');\n",
              "      quickchartButtonEl.disabled = true;  // To prevent multiple clicks.\n",
              "      quickchartButtonEl.classList.add('colab-df-spinner');\n",
              "      try {\n",
              "        const charts = await google.colab.kernel.invokeFunction(\n",
              "            'suggestCharts', [key], {});\n",
              "      } catch (error) {\n",
              "        console.error('Error during call to suggestCharts:', error);\n",
              "      }\n",
              "      quickchartButtonEl.classList.remove('colab-df-spinner');\n",
              "      quickchartButtonEl.classList.add('colab-df-quickchart-complete');\n",
              "    }\n",
              "    (() => {\n",
              "      let quickchartButtonEl =\n",
              "        document.querySelector('#df-efc6ec77-300a-47ae-ae51-b37ab45d8db2 button');\n",
              "      quickchartButtonEl.style.display =\n",
              "        google.colab.kernel.accessAllowed ? 'block' : 'none';\n",
              "    })();\n",
              "  </script>\n",
              "</div>\n",
              "\n",
              "    </div>\n",
              "  </div>\n"
            ],
            "application/vnd.google.colaboratory.intrinsic+json": {
              "type": "dataframe",
              "summary": "{\n  \"name\": \"df\",\n  \"rows\": 8,\n  \"fields\": [\n    {\n      \"column\": \"RAM\",\n      \"properties\": {\n        \"dtype\": \"number\",\n        \"std\": 639.9432245841779,\n        \"min\": 1.0,\n        \"max\": 1816.0,\n        \"num_unique_values\": 7,\n        \"samples\": [\n          1816.0,\n          6.503303964757709,\n          8.0\n        ],\n        \"semantic_type\": \"\",\n        \"description\": \"\"\n      }\n    },\n    {\n      \"column\": \"Storage\",\n      \"properties\": {\n        \"dtype\": \"number\",\n        \"std\": 636.8682609447968,\n        \"min\": 2.0,\n        \"max\": 1816.0,\n        \"num_unique_values\": 8,\n        \"samples\": [\n          162.17511013215858,\n          128.0,\n          1816.0\n        ],\n        \"semantic_type\": \"\",\n        \"description\": \"\"\n      }\n    },\n    {\n      \"column\": \"Final Price\",\n      \"properties\": {\n        \"dtype\": \"number\",\n        \"std\": 808.8453317003173,\n        \"min\": 60.46,\n        \"max\": 2271.28,\n        \"num_unique_values\": 8,\n        \"samples\": [\n          492.17557268722464,\n          349.99,\n          1816.0\n        ],\n        \"semantic_type\": \"\",\n        \"description\": \"\"\n      }\n    }\n  ]\n}"
            }
          },
          "metadata": {},
          "execution_count": 11
        }
      ]
    },
    {
      "cell_type": "markdown",
      "source": [
        "* ## Seperating Categorical and Numeric Columns\n",
        "\n",
        "Now we will separate the categorical and numeric coulmns of dataset to perform the respective type of data preprocessing correspondingly."
      ],
      "metadata": {
        "id": "zxmwi7UQr-m-"
      }
    },
    {
      "cell_type": "code",
      "source": [
        "# For categorical columns\n",
        "categorical_columns = [var for var in df.columns if df[var].dtype=='O']\n",
        "print('There are {} categorical variables\\n'.format(len(categorical_columns)))\n",
        "print('The categorical variables are :\\n\\n', categorical_columns)"
      ],
      "metadata": {
        "colab": {
          "base_uri": "https://localhost:8080/"
        },
        "id": "MBmzUWfNpxjU",
        "outputId": "7814c55a-e088-4345-aa25-b3856336f696"
      },
      "execution_count": 12,
      "outputs": [
        {
          "output_type": "stream",
          "name": "stdout",
          "text": [
            "There are 5 categorical variables\n",
            "\n",
            "The categorical variables are :\n",
            "\n",
            " ['Smartphone', 'Brand', 'Model', 'Color', 'Free']\n"
          ]
        }
      ]
    },
    {
      "cell_type": "code",
      "source": [
        "# For numeric columns\n",
        "numerical_columns = [var for var in df.columns if df[var].dtype!='O']\n",
        "print('There are {} numerical variables\\n'.format(len(numerical_columns)))\n",
        "print('The numerical variables are :', numerical_columns)"
      ],
      "metadata": {
        "colab": {
          "base_uri": "https://localhost:8080/"
        },
        "id": "cqp53w3LrSmH",
        "outputId": "c36d31ff-97b0-4d01-d182-4cc0804fd83d"
      },
      "execution_count": 13,
      "outputs": [
        {
          "output_type": "stream",
          "name": "stdout",
          "text": [
            "There are 3 numerical variables\n",
            "\n",
            "The numerical variables are : ['RAM', 'Storage', 'Final Price']\n"
          ]
        }
      ]
    },
    {
      "cell_type": "markdown",
      "source": [
        "* ## Unique Values of Columns\n",
        "\n",
        "Now we will represent the unique values of each column of dataset to determine whether the columns data has continuous or discrete data.\n",
        "\n",
        "This will later help us during feature engineering."
      ],
      "metadata": {
        "id": "-oIGPmUhsHRF"
      }
    },
    {
      "cell_type": "markdown",
      "source": [
        "1. ### For Smartphone Column"
      ],
      "metadata": {
        "id": "F-hwK_4sUdsz"
      }
    },
    {
      "cell_type": "code",
      "source": [
        "# Checking the unique values in Smartphone column.\n",
        "print(\"Unique values in 'Smartphone' Column:\")\n",
        "print(df[\"Smartphone\"].unique())\n",
        "\n",
        "# Also printing its count.\n",
        "print(\"\\nCount of unique values in 'Smartphone' Column:\")\n",
        "df[\"Smartphone\"].nunique()"
      ],
      "metadata": {
        "colab": {
          "base_uri": "https://localhost:8080/"
        },
        "id": "BYRocvx7sWJV",
        "outputId": "b81b24ca-9890-4824-ffa5-8507e030b590"
      },
      "execution_count": 14,
      "outputs": [
        {
          "output_type": "stream",
          "name": "stdout",
          "text": [
            "Unique values in 'Smartphone' Column:\n",
            "['Realme C55 8/256GB Sunshower Libre'\n",
            " 'Samsung Galaxy M23 5G 4/128GB Azul Libre'\n",
            " 'Motorola Moto G13 4/128GB Azul Lavanda Libre' ...\n",
            " 'Xiaomi Redmi Note 9 4/128GB Blanco Libre'\n",
            " 'Xiaomi Redmi Note 9S 4/64GB Dual SIM Gris Libre'\n",
            " 'Xiaomi Redmi Note 9S 6/128GB Dual SIM Gris Libre']\n",
            "\n",
            "Count of unique values in 'Smartphone' Column:\n"
          ]
        },
        {
          "output_type": "execute_result",
          "data": {
            "text/plain": [
              "1816"
            ]
          },
          "metadata": {},
          "execution_count": 14
        }
      ]
    },
    {
      "cell_type": "markdown",
      "source": [
        "Since the data in 'Smartphone' column has totally unique continuous categorical data, thus it will be dropped in feature engineering as it has no pattern for model to recognize."
      ],
      "metadata": {
        "id": "-or2dw9eWVA6"
      }
    },
    {
      "cell_type": "markdown",
      "source": [
        "2. ### Brand Column:"
      ],
      "metadata": {
        "id": "2YOrYdaSWKPW"
      }
    },
    {
      "cell_type": "code",
      "source": [
        "# Checking the unique values in Brand column.\n",
        "print(\"Unique values in 'Brand' Column:\")\n",
        "print(df[\"Brand\"].unique())\n",
        "\n",
        "# Also printing its count.\n",
        "print(\"\\nCount of unique values in 'Brand' Column:\")\n",
        "df[\"Brand\"].nunique()"
      ],
      "metadata": {
        "colab": {
          "base_uri": "https://localhost:8080/"
        },
        "outputId": "4b16f102-01d9-4a2a-e94c-e610c9548979",
        "id": "XQFZEdoLWvNH"
      },
      "execution_count": 15,
      "outputs": [
        {
          "output_type": "stream",
          "name": "stdout",
          "text": [
            "Unique values in 'Brand' Column:\n",
            "['Realme' 'Samsung' 'Motorola' 'Xiaomi' 'Nothing' 'POCO' 'Apple' 'OPPO'\n",
            " 'Alcatel' 'Vivo' 'ZTE' 'OnePlus' 'TCL' 'CAT' 'SPC' 'Cubot' 'Google'\n",
            " 'Ulefone' 'Nokia' 'Honor' 'Huawei' 'Sony' 'Hammer' 'Qubo' 'Blackview'\n",
            " 'Asus' 'Microsoft' 'BQ' 'Crosscall' 'Doro' 'Fairphone' 'Funker' 'Gigaset'\n",
            " 'LG' 'Maxcom' 'Swissvoice' 'Lenovo']\n",
            "\n",
            "Count of unique values in 'Brand' Column:\n"
          ]
        },
        {
          "output_type": "execute_result",
          "data": {
            "text/plain": [
              "37"
            ]
          },
          "metadata": {},
          "execution_count": 15
        }
      ]
    },
    {
      "cell_type": "markdown",
      "source": [
        "3. ### Model Column"
      ],
      "metadata": {
        "id": "BMA-rGSQlJCA"
      }
    },
    {
      "cell_type": "code",
      "source": [
        "# Checking the unique values in Brand column.\n",
        "print(\"Unique values in 'Brand' Column:\")\n",
        "print(df[\"Brand\"].unique())\n",
        "\n",
        "# Also printing its count.\n",
        "print(\"\\nCount of unique values in 'Brand' Column:\")\n",
        "df[\"Brand\"].nunique()"
      ],
      "metadata": {
        "colab": {
          "base_uri": "https://localhost:8080/"
        },
        "id": "5DFR_tmalSSx",
        "outputId": "93761f89-7cac-479e-d476-c7537cd08161"
      },
      "execution_count": 16,
      "outputs": [
        {
          "output_type": "stream",
          "name": "stdout",
          "text": [
            "Unique values in 'Brand' Column:\n",
            "['Realme' 'Samsung' 'Motorola' 'Xiaomi' 'Nothing' 'POCO' 'Apple' 'OPPO'\n",
            " 'Alcatel' 'Vivo' 'ZTE' 'OnePlus' 'TCL' 'CAT' 'SPC' 'Cubot' 'Google'\n",
            " 'Ulefone' 'Nokia' 'Honor' 'Huawei' 'Sony' 'Hammer' 'Qubo' 'Blackview'\n",
            " 'Asus' 'Microsoft' 'BQ' 'Crosscall' 'Doro' 'Fairphone' 'Funker' 'Gigaset'\n",
            " 'LG' 'Maxcom' 'Swissvoice' 'Lenovo']\n",
            "\n",
            "Count of unique values in 'Brand' Column:\n"
          ]
        },
        {
          "output_type": "execute_result",
          "data": {
            "text/plain": [
              "37"
            ]
          },
          "metadata": {},
          "execution_count": 16
        }
      ]
    },
    {
      "cell_type": "markdown",
      "source": [
        "4. ### RAM Column"
      ],
      "metadata": {
        "id": "7Fpj35uYlbWY"
      }
    },
    {
      "cell_type": "code",
      "source": [
        "# Checking the unique values in RAM column.\n",
        "print(\"Unique values in 'Brand' Column:\")\n",
        "print(df[\"RAM\"].unique())\n",
        "\n",
        "# Also printing its count.\n",
        "print(\"\\nCount of unique values in 'Brand' Column:\")\n",
        "df[\"RAM\"].nunique()"
      ],
      "metadata": {
        "colab": {
          "base_uri": "https://localhost:8080/"
        },
        "id": "8hSWnCOzllfx",
        "outputId": "93d32167-6fda-4315-84a4-d33420f673d7"
      },
      "execution_count": 32,
      "outputs": [
        {
          "output_type": "stream",
          "name": "stdout",
          "text": [
            "Unique values in 'Brand' Column:\n",
            "[ 8.  4.  6. 12.  3.  2.  1.]\n",
            "\n",
            "Count of unique values in 'Brand' Column:\n"
          ]
        },
        {
          "output_type": "execute_result",
          "data": {
            "text/plain": [
              "7"
            ]
          },
          "metadata": {},
          "execution_count": 32
        }
      ]
    },
    {
      "cell_type": "markdown",
      "source": [
        "5. ### Storage Column"
      ],
      "metadata": {
        "id": "cCAmv8Gulpl9"
      }
    },
    {
      "cell_type": "code",
      "source": [
        "# Checking the unique values in Storage column.\n",
        "print(\"Unique values in 'Brand' Column:\")\n",
        "print(df[\"Storage\"].unique())\n",
        "\n",
        "# Also printing its count.\n",
        "print(\"\\nCount of unique values in 'Brand' Column:\")\n",
        "df[\"Storage\"].nunique()"
      ],
      "metadata": {
        "colab": {
          "base_uri": "https://localhost:8080/"
        },
        "id": "TpwKvWt4lwYt",
        "outputId": "db9a8c0f-4a5d-4795-fdc5-f3f687d4d6c4"
      },
      "execution_count": 33,
      "outputs": [
        {
          "output_type": "stream",
          "name": "stdout",
          "text": [
            "Unique values in 'Brand' Column:\n",
            "[ 256.  128.  512.   64.   32.   16.    2. 1000.    4.   12.    3.    8.]\n",
            "\n",
            "Count of unique values in 'Brand' Column:\n"
          ]
        },
        {
          "output_type": "execute_result",
          "data": {
            "text/plain": [
              "12"
            ]
          },
          "metadata": {},
          "execution_count": 33
        }
      ]
    },
    {
      "cell_type": "markdown",
      "source": [
        "6. ### Color Column"
      ],
      "metadata": {
        "id": "AXStbQ7Nl2sg"
      }
    },
    {
      "cell_type": "code",
      "source": [
        "# Checking the unique values in Color column.\n",
        "print(\"Unique values in 'Brand' Column:\")\n",
        "print(df[\"Color\"].unique())\n",
        "\n",
        "# Also printing its count.\n",
        "print(\"\\nCount of unique values in 'Brand' Column:\")\n",
        "df[\"Color\"].nunique()"
      ],
      "metadata": {
        "colab": {
          "base_uri": "https://localhost:8080/"
        },
        "id": "iPg4vSEel98w",
        "outputId": "6eab2887-1426-4dc8-96c4-92323eae3943"
      },
      "execution_count": 34,
      "outputs": [
        {
          "output_type": "stream",
          "name": "stdout",
          "text": [
            "Unique values in 'Brand' Column:\n",
            "['Yellow' 'Blue' 'Gray' 'White' 'Black' 'Green' 'Silver' 'Gold' 'Brown'\n",
            " 'Orange' 'Purple' 'Pink' 'Red' 'Turquoise' 'Rainbow' 'Bronze' 'Crystal']\n",
            "\n",
            "Count of unique values in 'Brand' Column:\n"
          ]
        },
        {
          "output_type": "execute_result",
          "data": {
            "text/plain": [
              "17"
            ]
          },
          "metadata": {},
          "execution_count": 34
        }
      ]
    },
    {
      "cell_type": "markdown",
      "source": [
        "7. ### Free Column"
      ],
      "metadata": {
        "id": "1Kav1JEsmEzr"
      }
    },
    {
      "cell_type": "code",
      "source": [
        "# Checking the unique values in Free column.\n",
        "print(\"Unique values in 'Brand' Column:\")\n",
        "print(df[\"Free\"].unique())\n",
        "\n",
        "# Also printing its count.\n",
        "print(\"\\nCount of unique values in 'Brand' Column:\")\n",
        "df[\"Free\"].nunique()"
      ],
      "metadata": {
        "colab": {
          "base_uri": "https://localhost:8080/"
        },
        "id": "jYIUPuiOmltE",
        "outputId": "67d8bc2e-72f4-4208-e79b-63c4a5837cd2"
      },
      "execution_count": 35,
      "outputs": [
        {
          "output_type": "stream",
          "name": "stdout",
          "text": [
            "Unique values in 'Brand' Column:\n",
            "['Yes' 'No']\n",
            "\n",
            "Count of unique values in 'Brand' Column:\n"
          ]
        },
        {
          "output_type": "execute_result",
          "data": {
            "text/plain": [
              "2"
            ]
          },
          "metadata": {},
          "execution_count": 35
        }
      ]
    },
    {
      "cell_type": "markdown",
      "source": [
        "8. ### Price Column"
      ],
      "metadata": {
        "id": "8cxhzGnAmrC2"
      }
    },
    {
      "cell_type": "code",
      "source": [
        "# Checking the unique values in Price column.\n",
        "print(\"Unique values in 'Brand' Column:\")\n",
        "print(df[\"Final Price\"].unique())\n",
        "\n",
        "# Also printing its count.\n",
        "print(\"\\nCount of unique values in 'Brand' Column:\")\n",
        "df[\"Final Price\"].nunique()"
      ],
      "metadata": {
        "colab": {
          "base_uri": "https://localhost:8080/"
        },
        "id": "BAlOV-a0mqlk",
        "outputId": "da1eb8fe-4e65-4327-8c99-9d0a41c3cd17"
      },
      "execution_count": 37,
      "outputs": [
        {
          "output_type": "stream",
          "name": "stdout",
          "text": [
            "Unique values in 'Brand' Column:\n",
            "[231.6  279.   179.01 ... 229.92 271.   211.  ]\n",
            "\n",
            "Count of unique values in 'Brand' Column:\n"
          ]
        },
        {
          "output_type": "execute_result",
          "data": {
            "text/plain": [
              "1022"
            ]
          },
          "metadata": {},
          "execution_count": 37
        }
      ]
    },
    {
      "cell_type": "markdown",
      "source": [
        " ## Unique Value Count for Columns\n",
        "\n",
        "Now we will calculate the count for individual unique value of every column in the data.\n",
        "\n",
        "Smartphone column will be ignored since each value in column is unique value."
      ],
      "metadata": {
        "id": "dW7FV3bAXP1o"
      }
    },
    {
      "cell_type": "markdown",
      "source": [
        "1. ### Brand Column:"
      ],
      "metadata": {
        "id": "1wPuhUcGXbD3"
      }
    },
    {
      "cell_type": "code",
      "source": [
        "# Show count of each RAM in the dataset\n",
        "print(df['RAM'].value_counts())"
      ],
      "metadata": {
        "colab": {
          "base_uri": "https://localhost:8080/"
        },
        "id": "GxElew07UXaT",
        "outputId": "a649473e-a4bf-4ff4-afd2-a267aadeca5c"
      },
      "execution_count": 17,
      "outputs": [
        {
          "output_type": "stream",
          "name": "stdout",
          "text": [
            "RAM\n",
            "8.0     864\n",
            "4.0     380\n",
            "6.0     259\n",
            "3.0     112\n",
            "12.0    109\n",
            "2.0      88\n",
            "1.0       4\n",
            "Name: count, dtype: int64\n"
          ]
        }
      ]
    },
    {
      "cell_type": "code",
      "source": [
        "# Show count of each brand in the dataset\n",
        "print(df['Brand'].value_counts())"
      ],
      "metadata": {
        "colab": {
          "base_uri": "https://localhost:8080/"
        },
        "id": "_Ldoo21WDjJR",
        "outputId": "600e366a-d7d1-4b98-958f-f4c6a4999088"
      },
      "execution_count": 18,
      "outputs": [
        {
          "output_type": "stream",
          "name": "stdout",
          "text": [
            "Brand\n",
            "Samsung       458\n",
            "Xiaomi        351\n",
            "Apple         292\n",
            "Realme        117\n",
            "OPPO           92\n",
            "POCO           67\n",
            "Motorola       57\n",
            "Huawei         57\n",
            "TCL            36\n",
            "Cubot          34\n",
            "Ulefone        30\n",
            "Blackview      27\n",
            "Vivo           27\n",
            "Honor          27\n",
            "OnePlus        22\n",
            "Hammer         21\n",
            "ZTE            17\n",
            "Nokia          13\n",
            "SPC            11\n",
            "Google          9\n",
            "Nothing         9\n",
            "Alcatel         7\n",
            "Crosscall       7\n",
            "CAT             6\n",
            "Gigaset         3\n",
            "Qubo            3\n",
            "Asus            3\n",
            "Doro            3\n",
            "Sony            2\n",
            "Swissvoice      1\n",
            "Maxcom          1\n",
            "LG              1\n",
            "BQ              1\n",
            "Funker          1\n",
            "Fairphone       1\n",
            "Microsoft       1\n",
            "Lenovo          1\n",
            "Name: count, dtype: int64\n"
          ]
        }
      ]
    },
    {
      "cell_type": "code",
      "source": [
        "# Show count of each Storage in the dataset\n",
        "print(df['Storage'].value_counts())"
      ],
      "metadata": {
        "colab": {
          "base_uri": "https://localhost:8080/"
        },
        "id": "3nhT5YiHUkQ4",
        "outputId": "39833267-e938-4216-987d-dd637283d456"
      },
      "execution_count": 19,
      "outputs": [
        {
          "output_type": "stream",
          "name": "stdout",
          "text": [
            "Storage\n",
            "128.0     757\n",
            "256.0     412\n",
            "64.0      332\n",
            "32.0      166\n",
            "512.0      94\n",
            "16.0       24\n",
            "1000.0     17\n",
            "4.0         6\n",
            "8.0         3\n",
            "2.0         2\n",
            "3.0         2\n",
            "12.0        1\n",
            "Name: count, dtype: int64\n"
          ]
        }
      ]
    },
    {
      "cell_type": "code",
      "source": [
        "# Visualizing 'Brand' feature's frequency distribution\n",
        "# Count the occurrences of each Brand category\n",
        "count = df[\"Brand\"].value_counts()\n",
        "print(count)"
      ],
      "metadata": {
        "colab": {
          "base_uri": "https://localhost:8080/"
        },
        "id": "s_ngwM-uFip3",
        "outputId": "9fef1560-6cbb-431a-b352-9de58c91c03f"
      },
      "execution_count": 20,
      "outputs": [
        {
          "output_type": "stream",
          "name": "stdout",
          "text": [
            "Brand\n",
            "Samsung       458\n",
            "Xiaomi        351\n",
            "Apple         292\n",
            "Realme        117\n",
            "OPPO           92\n",
            "POCO           67\n",
            "Motorola       57\n",
            "Huawei         57\n",
            "TCL            36\n",
            "Cubot          34\n",
            "Ulefone        30\n",
            "Blackview      27\n",
            "Vivo           27\n",
            "Honor          27\n",
            "OnePlus        22\n",
            "Hammer         21\n",
            "ZTE            17\n",
            "Nokia          13\n",
            "SPC            11\n",
            "Google          9\n",
            "Nothing         9\n",
            "Alcatel         7\n",
            "Crosscall       7\n",
            "CAT             6\n",
            "Gigaset         3\n",
            "Qubo            3\n",
            "Asus            3\n",
            "Doro            3\n",
            "Sony            2\n",
            "Swissvoice      1\n",
            "Maxcom          1\n",
            "LG              1\n",
            "BQ              1\n",
            "Funker          1\n",
            "Fairphone       1\n",
            "Microsoft       1\n",
            "Lenovo          1\n",
            "Name: count, dtype: int64\n"
          ]
        }
      ]
    },
    {
      "cell_type": "code",
      "source": [
        "# Calculate percentages of 'Brand' feature values\n",
        "percentage = (count/ count.sum()) * 100"
      ],
      "metadata": {
        "id": "N4u5e_ezG3CP"
      },
      "execution_count": 21,
      "outputs": []
    },
    {
      "cell_type": "code",
      "source": [
        "# Create the vertical bar plot of 'Brand' values distribution\n",
        "plt.figure(figsize=(32, 10))\n",
        "barplot = sns.barplot(x=percentage.index, y=percentage, palette=\"deep\")\n",
        "# Annotate each bar with the percentage value\n",
        "for p in barplot.patches:\n",
        "    barplot.annotate(f'{p.get_height():.2f}%',\n",
        "                     (p.get_x() + p.get_width() / 2., p.get_height()),\n",
        "                     ha='center', va='center',\n",
        "                     xytext=(0, 10),\n",
        "                     textcoords='offset points')\n",
        "# Set the labels and title\n",
        "plt.title(\"Brand Distribution\")\n",
        "plt.xlabel(\"Brand\")\n",
        "plt.ylabel(\"Percentage\")\n",
        "plt.show()"
      ],
      "metadata": {
        "colab": {
          "base_uri": "https://localhost:8080/",
          "height": 483
        },
        "id": "BM4u5_khGlHl",
        "outputId": "2585d40e-a287-491c-b02f-d30fe84ec63f"
      },
      "execution_count": 22,
      "outputs": [
        {
          "output_type": "stream",
          "name": "stderr",
          "text": [
            "<ipython-input-22-678951879027>:3: FutureWarning: \n",
            "\n",
            "Passing `palette` without assigning `hue` is deprecated and will be removed in v0.14.0. Assign the `x` variable to `hue` and set `legend=False` for the same effect.\n",
            "\n",
            "  barplot = sns.barplot(x=percentage.index, y=percentage, palette=\"deep\")\n"
          ]
        },
        {
          "output_type": "display_data",
          "data": {
            "text/plain": [
              "<Figure size 3200x1000 with 1 Axes>"
            ],
            "image/png": "[encoded data removed]"
          },
          "metadata": {}
        }
      ]
    },
    {
      "cell_type": "code",
      "source": [
        "# Visualizing 'RAM' feature's frequency distribution\n",
        "# Count the occurrences of each RAM category\n",
        "count = df[\"RAM\"].value_counts()\n",
        "print(count)"
      ],
      "metadata": {
        "colab": {
          "base_uri": "https://localhost:8080/"
        },
        "id": "AEPrjvP7HR7Z",
        "outputId": "e3fdc765-bfb6-4ba6-a772-75de25927868"
      },
      "execution_count": 23,
      "outputs": [
        {
          "output_type": "stream",
          "name": "stdout",
          "text": [
            "RAM\n",
            "8.0     864\n",
            "4.0     380\n",
            "6.0     259\n",
            "3.0     112\n",
            "12.0    109\n",
            "2.0      88\n",
            "1.0       4\n",
            "Name: count, dtype: int64\n"
          ]
        }
      ]
    },
    {
      "cell_type": "code",
      "source": [
        "# Calculate percentages of 'RAM' feature values\n",
        "percentage = (count / count.sum()) * 100"
      ],
      "metadata": {
        "id": "AM0rr-70Hap3"
      },
      "execution_count": 24,
      "outputs": []
    },
    {
      "cell_type": "code",
      "source": [
        "# Create the vertical bar plot of 'RAM' values distribution\n",
        "plt.figure(figsize=(10, 6))\n",
        "barplot=sns.barplot(x=percentage.index, y=percentage, palette='deep')\n",
        "# Annotate each bar with the percentage value\n",
        "for p in barplot.patches:\n",
        "    barplot.annotate(f'{p.get_height():.2f}%',\n",
        "                     (p.get_x() + p.get_width() / 2., p.get_height()),\n",
        "                     ha='center', va='center',\n",
        "                     xytext=(0, 10),\n",
        "                     textcoords='offset points')\n",
        "# Set the labels and title\n",
        "plt.title(\"RAM Distribution\")\n",
        "plt.xlabel(\"RAM\")\n",
        "plt.ylabel(\"Percentage\")\n",
        "plt.show()"
      ],
      "metadata": {
        "colab": {
          "base_uri": "https://localhost:8080/",
          "height": 675
        },
        "id": "_GqkW8SQHg3p",
        "outputId": "284a1831-3cbd-482f-a013-cc9fbd9d9f02"
      },
      "execution_count": 25,
      "outputs": [
        {
          "output_type": "stream",
          "name": "stderr",
          "text": [
            "<ipython-input-25-ba2c15f4d476>:3: FutureWarning: \n",
            "\n",
            "Passing `palette` without assigning `hue` is deprecated and will be removed in v0.14.0. Assign the `x` variable to `hue` and set `legend=False` for the same effect.\n",
            "\n",
            "  barplot=sns.barplot(x=percentage.index, y=percentage, palette='deep')\n"
          ]
        },
        {
          "output_type": "display_data",
          "data": {
            "text/plain": [
              "<Figure size 1000x600 with 1 Axes>"
            ],
            "image/png": "[encoded data removed]"
          },
          "metadata": {}
        }
      ]
    },
    {
      "cell_type": "code",
      "source": [
        "# Visualizing 'Storage' feature's frequency distribution\n",
        "# Count the occurrences of each Storage category\n",
        "count=df[\"Storage\"].value_counts()\n",
        "print(count)"
      ],
      "metadata": {
        "id": "zhGE4EQ-Hn39",
        "colab": {
          "base_uri": "https://localhost:8080/"
        },
        "outputId": "a36729d0-215c-4102-b8ff-69bb06aa6c21"
      },
      "execution_count": 26,
      "outputs": [
        {
          "output_type": "stream",
          "name": "stdout",
          "text": [
            "Storage\n",
            "128.0     757\n",
            "256.0     412\n",
            "64.0      332\n",
            "32.0      166\n",
            "512.0      94\n",
            "16.0       24\n",
            "1000.0     17\n",
            "4.0         6\n",
            "8.0         3\n",
            "2.0         2\n",
            "3.0         2\n",
            "12.0        1\n",
            "Name: count, dtype: int64\n"
          ]
        }
      ]
    },
    {
      "cell_type": "code",
      "source": [
        "# Calculate percentages of 'Storage' feature values\n",
        "percentage = (count / count.sum()) * 100"
      ],
      "metadata": {
        "id": "c8Jj6xCvHv3E"
      },
      "execution_count": 27,
      "outputs": []
    },
    {
      "cell_type": "code",
      "source": [
        "# Create the vertical bar plot of 'Storage' values distribution\n",
        "plt.figure(figsize=(10, 6))\n",
        "barplot=sns.barplot(x=percentage.index, y=percentage, palette='muted')\n",
        "# Annotate each bar with the percentage value\n",
        "for p in barplot.patches:\n",
        "    barplot.annotate(f'{p.get_height():.2f}%',\n",
        "                     (p.get_x() + p.get_width() / 2., p.get_height()),\n",
        "                     ha='center', va='center',\n",
        "                     xytext=(0, 10),\n",
        "                     textcoords='offset points')\n",
        "# Set the labels and title\n",
        "plt.title(\"Storage Distribution\")\n",
        "plt.xlabel(\"Storage\")\n",
        "plt.ylabel(\"Percentage\")\n",
        "plt.show()"
      ],
      "metadata": {
        "colab": {
          "base_uri": "https://localhost:8080/",
          "height": 675
        },
        "id": "yq2EUqMnH0Af",
        "outputId": "21338f6d-2a73-4612-b6e0-57719054cbd0"
      },
      "execution_count": 28,
      "outputs": [
        {
          "output_type": "stream",
          "name": "stderr",
          "text": [
            "<ipython-input-28-75a0e9c79145>:3: FutureWarning: \n",
            "\n",
            "Passing `palette` without assigning `hue` is deprecated and will be removed in v0.14.0. Assign the `x` variable to `hue` and set `legend=False` for the same effect.\n",
            "\n",
            "  barplot=sns.barplot(x=percentage.index, y=percentage, palette='muted')\n"
          ]
        },
        {
          "output_type": "display_data",
          "data": {
            "text/plain": [
              "<Figure size 1000x600 with 1 Axes>"
            ],
            "image/png": "[encoded data removed]"
          },
          "metadata": {}
        }
      ]
    },
    {
      "cell_type": "code",
      "source": [
        "# Visualizing 'Color' feature's frequency distribution\n",
        "# Count the occurrences of each Color category\n",
        "count = df[\"Color\"].value_counts()\n",
        "print(count)"
      ],
      "metadata": {
        "colab": {
          "base_uri": "https://localhost:8080/"
        },
        "id": "HVWgmlLVIAAz",
        "outputId": "5c52ba0b-191a-4dc8-b7a6-2f1f013ad9d4"
      },
      "execution_count": 29,
      "outputs": [
        {
          "output_type": "stream",
          "name": "stdout",
          "text": [
            "Color\n",
            "Black        537\n",
            "Blue         339\n",
            "Gray         196\n",
            "Green        180\n",
            "White        170\n",
            "Silver        86\n",
            "Purple        80\n",
            "Gold          68\n",
            "Red           48\n",
            "Pink          41\n",
            "Orange        30\n",
            "Yellow        24\n",
            "Turquoise      5\n",
            "Brown          4\n",
            "Crystal        4\n",
            "Bronze         3\n",
            "Rainbow        1\n",
            "Name: count, dtype: int64\n"
          ]
        }
      ]
    },
    {
      "cell_type": "code",
      "source": [
        "# Calculate percentages of 'Color' feature values\n",
        "percentage = (count/ count.sum()) * 100"
      ],
      "metadata": {
        "id": "WVQdKUOGIHWR"
      },
      "execution_count": 30,
      "outputs": []
    },
    {
      "cell_type": "code",
      "source": [
        "# Create the vertical bar plot of 'Color' values distribution\n",
        "plt.figure(figsize=(15, 6))\n",
        "barplot = sns.barplot(x=percentage.index, y=percentage, palette=\"deep\")\n",
        "# Annotate each bar with the percentage value\n",
        "for p in barplot.patches:\n",
        "    barplot.annotate(f'{p.get_height():.2f}%',\n",
        "                     (p.get_x() + p.get_width() / 2., p.get_height()),\n",
        "                     ha='center', va='center',\n",
        "                     xytext=(0, 10),\n",
        "                     textcoords='offset points')\n",
        "# Set the labels and title\n",
        "plt.xlabel('Percentage')\n",
        "plt.ylabel(\"Color\")\n",
        "plt.title('Color Distribution')\n",
        "plt.show()"
      ],
      "metadata": {
        "colab": {
          "base_uri": "https://localhost:8080/",
          "height": 598
        },
        "id": "Jqe8WtvBIPGM",
        "outputId": "83e8d3a4-9f98-4d7c-86bd-92136063847d"
      },
      "execution_count": 31,
      "outputs": [
        {
          "output_type": "stream",
          "name": "stderr",
          "text": [
            "<ipython-input-31-a8781eee3faf>:3: FutureWarning: \n",
            "\n",
            "Passing `palette` without assigning `hue` is deprecated and will be removed in v0.14.0. Assign the `x` variable to `hue` and set `legend=False` for the same effect.\n",
            "\n",
            "  barplot = sns.barplot(x=percentage.index, y=percentage, palette=\"deep\")\n"
          ]
        },
        {
          "output_type": "display_data",
          "data": {
            "text/plain": [
              "<Figure size 1500x600 with 1 Axes>"
            ],
            "image/png": "[encoded data removed]"
          },
          "metadata": {}
        }
      ]
    },
    {
      "cell_type": "markdown",
      "source": [
        "# Feature Engineering"
      ],
      "metadata": {
        "id": "Kn9br1yaAr6p"
      }
    },
    {
      "cell_type": "markdown",
      "source": [
        "* ## Distribution of Dataset into Features and Target Variables"
      ],
      "metadata": {
        "id": "KBDPEVS0CKIm"
      }
    },
    {
      "cell_type": "markdown",
      "source": [
        "* ## Encoding of Categorical Features"
      ],
      "metadata": {
        "id": "sykowGlxCKaw"
      }
    },
    {
      "cell_type": "markdown",
      "source": [
        "* ## Numerical Feature Scaling (Normalization)"
      ],
      "metadata": {
        "id": "bsWqVqFfCCXP"
      }
    },
    {
      "cell_type": "markdown",
      "source": [
        "# Model Building"
      ],
      "metadata": {
        "id": "dChHIy2lAvOc"
      }
    },
    {
      "cell_type": "markdown",
      "source": [
        "*   ## Linear Regression"
      ],
      "metadata": {
        "id": "bvUVWqdyBDGd"
      }
    },
    {
      "cell_type": "markdown",
      "source": [
        "*   ## Decision Tree Regression"
      ],
      "metadata": {
        "id": "dKUcszbPBXse"
      }
    },
    {
      "cell_type": "markdown",
      "source": [
        "* ## K-Nearest Neighbour Regression"
      ],
      "metadata": {
        "id": "VWy8rSSBBkv8"
      }
    },
    {
      "cell_type": "markdown",
      "source": [
        "# Model Evaluation"
      ],
      "metadata": {
        "id": "GXIZ882OA0Q0"
      }
    },
    {
      "cell_type": "markdown",
      "source": [
        "* ## Linear Regression"
      ],
      "metadata": {
        "id": "XCmGYWrFBsTb"
      }
    },
    {
      "cell_type": "markdown",
      "source": [
        "* ## Decision Tree Regression"
      ],
      "metadata": {
        "id": "k7KawskQBsi1"
      }
    },
    {
      "cell_type": "markdown",
      "source": [
        "* ## K-Nearest Neighbour Regression"
      ],
      "metadata": {
        "id": "-gGKrL_4Bstg"
      }
    },
    {
      "cell_type": "markdown",
      "source": [
        "# Conclusion"
      ],
      "metadata": {
        "id": "k1W8fzZZA5mD"
      }
    }
  ],
  "metadata": {
    "colab": {
      "provenance": [],
      "include_colab_link": true
    },
    "kernelspec": {
      "display_name": "Python 3",
      "name": "python3"
    }
  },
  "nbformat": 4,
  "nbformat_minor": 0
}