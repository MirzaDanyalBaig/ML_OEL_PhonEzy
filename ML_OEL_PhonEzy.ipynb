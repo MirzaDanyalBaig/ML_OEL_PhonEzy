{
  "cells": [
    {
      "cell_type": "markdown",
      "metadata": {
        "id": "view-in-github",
        "colab_type": "text"
      },
      "source": [
        "<a href=\"https://colab.research.google.com/github/MirzaDanyalBaig/ML_OEL_PhonEzy/blob/master/ML_OEL_PhonEzy.ipynb\" target=\"_parent\"><img src=\"https://colab.research.google.com/assets/colab-badge.svg\" alt=\"Open In Colab\"/></a>"
      ]
    },
    {
      "cell_type": "markdown",
      "source": [
        "# Contributors:\n",
        "\n",
        "\n",
        "1.   Muhammad Faizan Khan (CS-21070)\n",
        "2.   Mirza Danyal Baig (CS-21076)\n",
        "3.   Aneeq Akhtar (CS-21101)\n",
        "\n"
      ],
      "metadata": {
        "id": "mPE3-F7p88jL"
      }
    }
  ],
  "metadata": {
    "colab": {
      "toc_visible": true,
      "provenance": [],
      "include_colab_link": true
    },
    "kernelspec": {
      "display_name": "Python 3",
      "name": "python3"
    }
  },
  "nbformat": 4,
  "nbformat_minor": 0
}